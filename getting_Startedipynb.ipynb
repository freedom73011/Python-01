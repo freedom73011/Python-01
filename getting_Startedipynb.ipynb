{
  "cells": [
    {
      "cell_type": "markdown",
      "metadata": {
        "id": "view-in-github",
        "colab_type": "text"
      },
      "source": [
        "<a href=\"https://colab.research.google.com/github/freedom73011/Python-01/blob/main/getting_Startedipynb.ipynb\" target=\"_parent\"><img src=\"https://colab.research.google.com/assets/colab-badge.svg\" alt=\"Open In Colab\"/></a>"
      ]
    },
    {
      "cell_type": "markdown",
      "metadata": {
        "id": "FgdZMmb-0GuE"
      },
      "source": [
        "# ch02-執行Python程式的方式"
      ]
    },
    {
      "cell_type": "markdown",
      "metadata": {
        "id": "0dZ5_n00zd2D"
      },
      "source": [
        "## ch02-1\n",
        "##執行第一支程式"
      ]
    },
    {
      "cell_type": "code",
      "execution_count": null,
      "metadata": {
        "colab": {
          "base_uri": "https://localhost:8080/"
        },
        "id": "pJmnzMBGz5NP",
        "outputId": "c3458278-8f4a-4890-8cf8-3d9997e906b6"
      },
      "outputs": [
        {
          "name": "stdout",
          "output_type": "stream",
          "text": [
            "hello world\n"
          ]
        }
      ],
      "source": [
        "print('hello world')"
      ]
    },
    {
      "cell_type": "markdown",
      "metadata": {
        "id": "GDZtr69b0XVH"
      },
      "source": [
        "## 執行第二支程式"
      ]
    },
    {
      "cell_type": "code",
      "execution_count": null,
      "metadata": {
        "colab": {
          "base_uri": "https://localhost:8080/"
        },
        "id": "1Ty2dlEfzdao",
        "outputId": "0071a6c5-9673-4310-bc7d-73e92f702a8e"
      },
      "outputs": [
        {
          "name": "stdout",
          "output_type": "stream",
          "text": [
            "     March 2024\n",
            "Mo Tu We Th Fr Sa Su\n",
            "             1  2  3\n",
            " 4  5  6  7  8  9 10\n",
            "11 12 13 14 15 16 17\n",
            "18 19 20 21 22 23 24\n",
            "25 26 27 28 29 30 31\n",
            "\n"
          ]
        }
      ],
      "source": [
        "import calendar\n",
        "print(calendar.month(2024,3))"
      ]
    },
    {
      "cell_type": "markdown",
      "metadata": {
        "id": "cFgGzncL6T8_"
      },
      "source": [
        "## 符號差一點差很大  ;分號 :單引號 '   ' 雙引號 \" \"\n",
        "\n",
        "['蘋果'，'橘子'，'檸檬']\n",
        "\n",
        "{'蘋果'，'橘子'，'檸檬'}"
      ]
    },
    {
      "cell_type": "code",
      "execution_count": null,
      "metadata": {
        "id": "Rs24H06s6wJx"
      },
      "outputs": [],
      "source": [
        "['蘋果'，'橘子'，'檸檬']"
      ]
    },
    {
      "cell_type": "code",
      "execution_count": null,
      "metadata": {
        "id": "0dt-tHO57BW4"
      },
      "outputs": [],
      "source": [
        "{'蘋果'，'橘子'，'檸檬'}"
      ]
    },
    {
      "cell_type": "markdown",
      "metadata": {
        "id": "a2MzrOua7IgU"
      },
      "source": [
        "## Python的縮排很重要"
      ]
    },
    {
      "cell_type": "code",
      "execution_count": null,
      "metadata": {
        "id": "lQfMFG3X7Rbz"
      },
      "outputs": [],
      "source": [
        "def happy():\n",
        "\tprint('life')"
      ]
    },
    {
      "cell_type": "code",
      "execution_count": null,
      "metadata": {
        "id": "ExwshPnO7PDj"
      },
      "outputs": [],
      "source": [
        "def happy():\n",
        "print('life')"
      ]
    },
    {
      "cell_type": "markdown",
      "metadata": {
        "id": "s_0TJbVU7l81"
      },
      "source": [
        "##用Python做數值計算  加(+) 減(-) 乘(*) 除(/)"
      ]
    },
    {
      "cell_type": "code",
      "execution_count": null,
      "metadata": {
        "colab": {
          "base_uri": "https://localhost:8080/"
        },
        "id": "KksVRRN072N3",
        "outputId": "b4ccdf28-efe8-405d-9f45-ccd8be536608"
      },
      "outputs": [
        {
          "data": {
            "text/plain": [
              "3473"
            ]
          },
          "execution_count": 6,
          "metadata": {},
          "output_type": "execute_result"
        }
      ],
      "source": [
        "1129 + 2344"
      ]
    },
    {
      "cell_type": "code",
      "execution_count": null,
      "metadata": {
        "colab": {
          "base_uri": "https://localhost:8080/"
        },
        "id": "2rEBxpDT8OR6",
        "outputId": "1fbb5b5e-2ab1-4784-fe1b-53ca2355719e"
      },
      "outputs": [
        {
          "data": {
            "text/plain": [
              "3849"
            ]
          },
          "execution_count": 7,
          "metadata": {},
          "output_type": "execute_result"
        }
      ],
      "source": [
        "3473 + 376"
      ]
    },
    {
      "cell_type": "code",
      "execution_count": null,
      "metadata": {
        "colab": {
          "base_uri": "https://localhost:8080/"
        },
        "id": "J2XhPcss8Sds",
        "outputId": "21960758-79b1-4f7b-e542-c97a521b206d"
      },
      "outputs": [
        {
          "data": {
            "text/plain": [
              "70"
            ]
          },
          "execution_count": 8,
          "metadata": {},
          "output_type": "execute_result"
        }
      ],
      "source": [
        "400 - 330"
      ]
    },
    {
      "cell_type": "markdown",
      "metadata": {
        "id": "CK19I3Rs8Wz7"
      },
      "source": [
        "## 乘(*) 除(/)  帶有小數點的直(稱作浮點數)"
      ]
    },
    {
      "cell_type": "code",
      "execution_count": null,
      "metadata": {
        "colab": {
          "base_uri": "https://localhost:8080/"
        },
        "id": "RO9pEwYr8jMM",
        "outputId": "0bf2c203-f370-4c16-a011-58d4a9711f89"
      },
      "outputs": [
        {
          "data": {
            "text/plain": [
              "3024.0"
            ]
          },
          "execution_count": 9,
          "metadata": {},
          "output_type": "execute_result"
        }
      ],
      "source": [
        "2800 * 1.08"
      ]
    },
    {
      "cell_type": "code",
      "execution_count": null,
      "metadata": {
        "colab": {
          "base_uri": "https://localhost:8080/"
        },
        "id": "78cBJzTD8lZe",
        "outputId": "07659448-d1d6-4f7d-f515-45481e7a24e7"
      },
      "outputs": [
        {
          "data": {
            "text/plain": [
              "160.0"
            ]
          },
          "execution_count": 10,
          "metadata": {},
          "output_type": "execute_result"
        }
      ],
      "source": [
        "1920 / 12"
      ]
    },
    {
      "cell_type": "markdown",
      "metadata": {
        "id": "lJ8sKHKf812-"
      },
      "source": [
        "## 算符的運算優先順序\n",
        "(有括號優先算括號內，否則就是先乘除、後加減)"
      ]
    },
    {
      "cell_type": "code",
      "execution_count": null,
      "metadata": {
        "id": "SH2WHSa79Vvm"
      },
      "outputs": [],
      "source": [
        "(40 + 50) * 3 - 50"
      ]
    },
    {
      "cell_type": "code",
      "execution_count": null,
      "metadata": {
        "id": "_MESiMFc9ZWM"
      },
      "outputs": [],
      "source": [
        "40 + 50 * 3 - 50"
      ]
    },
    {
      "cell_type": "markdown",
      "metadata": {
        "id": "k9AiWLfl9dQz"
      },
      "source": [
        "## 用%算符求餘數"
      ]
    },
    {
      "cell_type": "code",
      "execution_count": null,
      "metadata": {
        "colab": {
          "base_uri": "https://localhost:8080/"
        },
        "id": "sBNg2o1q9vjF",
        "outputId": "22856ad2-dc1d-40f5-842a-37fc4b48e1c8"
      },
      "outputs": [
        {
          "data": {
            "text/plain": [
              "0"
            ]
          },
          "execution_count": 13,
          "metadata": {},
          "output_type": "execute_result"
        }
      ],
      "source": [
        "255 % 3"
      ]
    },
    {
      "cell_type": "code",
      "execution_count": null,
      "metadata": {
        "colab": {
          "base_uri": "https://localhost:8080/"
        },
        "id": "ZlCp1Vup9ySV",
        "outputId": "d2eb4865-8136-40ec-e3d4-454e403d7607"
      },
      "outputs": [
        {
          "data": {
            "text/plain": [
              "3"
            ]
          },
          "execution_count": 14,
          "metadata": {},
          "output_type": "execute_result"
        }
      ],
      "source": [
        "255 % 7"
      ]
    },
    {
      "cell_type": "markdown",
      "metadata": {
        "id": "q_EXB4-l9-_9"
      },
      "source": [
        "## 用**算符計算次方"
      ]
    },
    {
      "cell_type": "code",
      "execution_count": null,
      "metadata": {
        "colab": {
          "base_uri": "https://localhost:8080/"
        },
        "id": "hsjGtqnR-F7b",
        "outputId": "b45c4e9f-7dbe-4920-9305-1f1581c9598c"
      },
      "outputs": [
        {
          "data": {
            "text/plain": [
              "8"
            ]
          },
          "execution_count": 15,
          "metadata": {},
          "output_type": "execute_result"
        }
      ],
      "source": [
        "2 ** 3"
      ]
    },
    {
      "cell_type": "code",
      "execution_count": null,
      "metadata": {
        "colab": {
          "base_uri": "https://localhost:8080/"
        },
        "id": "5DptAlAy-IvC",
        "outputId": "f18bd5dc-00d4-4c7e-d6f9-9079c8b65dc8"
      },
      "outputs": [
        {
          "data": {
            "text/plain": [
              "625"
            ]
          },
          "execution_count": 16,
          "metadata": {},
          "output_type": "execute_result"
        }
      ],
      "source": [
        "5 ** 4"
      ]
    },
    {
      "cell_type": "markdown",
      "metadata": {
        "id": "CcoTOsTm-S9g"
      },
      "source": [
        "## 次方若為小數，就可以計算開根號"
      ]
    },
    {
      "cell_type": "code",
      "execution_count": null,
      "metadata": {
        "colab": {
          "base_uri": "https://localhost:8080/"
        },
        "id": "l5U_DBxV-eG6",
        "outputId": "a0bc4b40-108b-48c2-b709-5bd303727b9f"
      },
      "outputs": [
        {
          "data": {
            "text/plain": [
              "2.0"
            ]
          },
          "execution_count": 17,
          "metadata": {},
          "output_type": "execute_result"
        }
      ],
      "source": [
        "4**0.5"
      ]
    },
    {
      "cell_type": "markdown",
      "metadata": {
        "id": "bs43w4Db7mvp"
      },
      "source": [
        "## 計算立方根"
      ]
    },
    {
      "cell_type": "code",
      "execution_count": null,
      "metadata": {
        "colab": {
          "base_uri": "https://localhost:8080/"
        },
        "id": "n6ChppkC-iMh",
        "outputId": "a174154d-8ab9-4fa1-8fc1-2588fcf38f01"
      },
      "outputs": [
        {
          "data": {
            "text/plain": [
              "2.6666666666666665"
            ]
          },
          "execution_count": 18,
          "metadata": {},
          "output_type": "execute_result"
        }
      ],
      "source": [
        "8**1/3"
      ]
    },
    {
      "cell_type": "markdown",
      "metadata": {
        "id": "MFLZMUiJcnef"
      },
      "source": [
        "##試著用變數來撰寫程式    \n",
        "語法:\n",
        "\n",
        "變數 = 資料\n",
        "\n",
        "將資料指派給變數(名稱、名牌)\n",
        "\n"
      ]
    },
    {
      "cell_type": "code",
      "execution_count": null,
      "metadata": {
        "id": "hbpt8AxxdpNj"
      },
      "outputs": [],
      "source": [
        "tax = 0.1\n",
        "price = 120\n",
        "suzuki_telephone = '0988-123-456'"
      ]
    },
    {
      "cell_type": "code",
      "execution_count": null,
      "metadata": {
        "colab": {
          "base_uri": "https://localhost:8080/"
        },
        "id": "aERuW6nheVMq",
        "outputId": "96430726-375b-4e96-cce7-6b63fd1fcb78"
      },
      "outputs": [
        {
          "name": "stdout",
          "output_type": "stream",
          "text": [
            "0.1\n"
          ]
        }
      ],
      "source": [
        "print(tax)"
      ]
    },
    {
      "cell_type": "code",
      "execution_count": null,
      "metadata": {
        "colab": {
          "base_uri": "https://localhost:8080/"
        },
        "id": "RODtPSOnemJg",
        "outputId": "4060ee00-604f-4a88-a062-28462eef05e6"
      },
      "outputs": [
        {
          "data": {
            "text/plain": [
              "12.0"
            ]
          },
          "execution_count": 21,
          "metadata": {},
          "output_type": "execute_result"
        }
      ],
      "source": [
        "price * tax"
      ]
    },
    {
      "cell_type": "code",
      "execution_count": null,
      "metadata": {
        "colab": {
          "base_uri": "https://localhost:8080/"
        },
        "id": "qEDD9h7fes0o",
        "outputId": "d2cd7916-e5b1-4b01-cb56-2b44df43f0c7"
      },
      "outputs": [
        {
          "data": {
            "text/plain": [
              "12.0"
            ]
          },
          "execution_count": 22,
          "metadata": {},
          "output_type": "execute_result"
        }
      ],
      "source": [
        "120 * 0.1"
      ]
    },
    {
      "cell_type": "markdown",
      "metadata": {
        "id": "GEVYQ1LogD8A"
      },
      "source": [
        "##變數的命名規則\n",
        "\n",
        "*  名稱中只能包括:數字、大小寫英文字及_底線，雖然可以用中文，一般不建議。\n",
        "\n",
        "*   名稱開頭第一個字不能是數字\n",
        "\n",
        "*   不能使用Python的(保留字)\n",
        "*   清單項目\n",
        "\n",
        "\n",
        "\n"
      ]
    },
    {
      "cell_type": "code",
      "execution_count": null,
      "metadata": {
        "id": "VqcQ7h2_hQbI"
      },
      "outputs": [],
      "source": [
        "value = 100"
      ]
    },
    {
      "cell_type": "code",
      "execution_count": null,
      "metadata": {
        "id": "Yu8Nr3XXhRrY"
      },
      "outputs": [],
      "source": [
        "_value = 300"
      ]
    },
    {
      "cell_type": "markdown",
      "metadata": {
        "id": "UmFk_SJ077zJ"
      },
      "source": [
        "## 語法錯誤無效的語法"
      ]
    },
    {
      "cell_type": "code",
      "execution_count": null,
      "metadata": {
        "id": "9tbE3W17hTuU"
      },
      "outputs": [],
      "source": [
        "2value = 500"
      ]
    },
    {
      "cell_type": "markdown",
      "metadata": {
        "id": "BhHxS9wghyrY"
      },
      "source": [
        "![python保留字.jpg](data:image/jpeg;base64,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)"
      ]
    },
    {
      "cell_type": "markdown",
      "metadata": {
        "id": "TH4QRG8X8BeZ"
      },
      "source": [
        "## 不能使用的保留字"
      ]
    },
    {
      "cell_type": "code",
      "execution_count": null,
      "metadata": {
        "id": "l9EcJ1F3irTx"
      },
      "outputs": [],
      "source": [
        "finally = 888"
      ]
    },
    {
      "cell_type": "code",
      "execution_count": null,
      "metadata": {
        "id": "KwRQwdDVislv"
      },
      "outputs": [],
      "source": [
        "global = 127"
      ]
    },
    {
      "cell_type": "markdown",
      "metadata": {
        "id": "eFZr4_Gri9Q4"
      },
      "source": [
        "## 保留字會以藍色顯示、內建函式則為紫色、字串為綠色、數值為咖啡色，一般字為黑色，看顏色就不會弄錯。"
      ]
    },
    {
      "cell_type": "markdown",
      "metadata": {
        "id": "BzS-_yCBjlXt"
      },
      "source": [
        "##試著使用比較算符"
      ]
    },
    {
      "cell_type": "markdown",
      "metadata": {
        "id": "J2J4p32D8WUe"
      },
      "source": [
        "## 程式會以True來表示為真，以Flase來表示假。稱為布林值"
      ]
    },
    {
      "cell_type": "code",
      "execution_count": null,
      "metadata": {
        "colab": {
          "base_uri": "https://localhost:8080/"
        },
        "id": "k7z0H4lKSRkj",
        "outputId": "3a53f154-6d29-4765-e486-008a48106c18"
      },
      "outputs": [
        {
          "data": {
            "text/plain": [
              "True"
            ]
          },
          "execution_count": 1,
          "metadata": {},
          "output_type": "execute_result"
        }
      ],
      "source": [
        "34 >22"
      ]
    },
    {
      "cell_type": "code",
      "execution_count": null,
      "metadata": {
        "colab": {
          "base_uri": "https://localhost:8080/"
        },
        "id": "VQGI_A7WgR29",
        "outputId": "18e3cfd1-0955-4743-e54b-8998c1cfb513"
      },
      "outputs": [
        {
          "data": {
            "text/plain": [
              "False"
            ]
          },
          "execution_count": 2,
          "metadata": {},
          "output_type": "execute_result"
        }
      ],
      "source": [
        "34<22"
      ]
    },
    {
      "cell_type": "code",
      "execution_count": null,
      "metadata": {
        "colab": {
          "base_uri": "https://localhost:8080/"
        },
        "id": "Vmxz8WvW84R3",
        "outputId": "e1219485-f405-457c-865c-35c192246bef"
      },
      "outputs": [
        {
          "data": {
            "text/plain": [
              "True"
            ]
          },
          "execution_count": 3,
          "metadata": {},
          "output_type": "execute_result"
        }
      ],
      "source": [
        "apple = 15\n",
        "apple == 15"
      ]
    },
    {
      "cell_type": "markdown",
      "metadata": {
        "id": "XeO3SFaK9FqJ"
      },
      "source": [
        "### True/False條件判斷經常用得上它們，True表示條件成立，False表示條件不成立。"
      ]
    },
    {
      "cell_type": "markdown",
      "metadata": {
        "id": "bYD5Uu7b9q6y"
      },
      "source": [
        "##ch02-2\n",
        "##Python會處理到的各種資料類型，數值型別、字串型別、邏輯型別、串列(list)型別、字典(dict)型別、tuple型別、集合(set)型別"
      ]
    },
    {
      "cell_type": "markdown",
      "metadata": {
        "id": "WrQqmVCn-tw5"
      },
      "source": [
        "## 數值型別"
      ]
    },
    {
      "cell_type": "markdown",
      "metadata": {
        "id": "JeH-y2J8lcF5"
      },
      "source": [
        "## 整數int，不含小數點的數值"
      ]
    },
    {
      "cell_type": "code",
      "execution_count": null,
      "metadata": {
        "colab": {
          "base_uri": "https://localhost:8080/"
        },
        "id": "8SaC3fTUkqIZ",
        "outputId": "6eb201a1-12c7-4348-9bdd-a985ca50375c"
      },
      "outputs": [
        {
          "data": {
            "text/plain": [
              "90"
            ]
          },
          "execution_count": 3,
          "metadata": {},
          "output_type": "execute_result"
        }
      ],
      "source": [
        "34 +56"
      ]
    },
    {
      "cell_type": "markdown",
      "metadata": {
        "id": "dubLnI1AlbMU"
      },
      "source": [
        "## 浮點數float，包含小數點的數值"
      ]
    },
    {
      "cell_type": "code",
      "execution_count": null,
      "metadata": {
        "colab": {
          "base_uri": "https://localhost:8080/"
        },
        "id": "SZ71iQt5l43p",
        "outputId": "911a456f-9613-42f9-d62e-47d57deaad05"
      },
      "outputs": [
        {
          "data": {
            "text/plain": [
              "8.2"
            ]
          },
          "execution_count": 4,
          "metadata": {},
          "output_type": "execute_result"
        }
      ],
      "source": [
        "5 + 3.2"
      ]
    },
    {
      "cell_type": "code",
      "execution_count": null,
      "metadata": {
        "colab": {
          "base_uri": "https://localhost:8080/"
        },
        "id": "ut9bQej0l_Ge",
        "outputId": "694ddad4-b74b-42e5-89c1-504390ed4f09"
      },
      "outputs": [
        {
          "data": {
            "text/plain": [
              "2.0"
            ]
          },
          "execution_count": 5,
          "metadata": {},
          "output_type": "execute_result"
        }
      ],
      "source": [
        "4 / 2"
      ]
    },
    {
      "cell_type": "markdown",
      "metadata": {
        "id": "5cdtvs6jmFVI"
      },
      "source": [
        "## 字串str型別，是由一串字元所組成，字元可以是中、英...等各國文字、數字或符號，只要在一段字元的前後嘉善單引號  '  或是雙引號  \"  ，就能將該段文字以字串的形式傳給程式。"
      ]
    },
    {
      "cell_type": "code",
      "execution_count": null,
      "metadata": {
        "colab": {
          "base_uri": "https://localhost:8080/",
          "height": 35
        },
        "id": "Br3GKV9smI6G",
        "outputId": "58851b41-1456-40dd-e32d-be244d97d887"
      },
      "outputs": [
        {
          "data": {
            "application/vnd.google.colaboratory.intrinsic+json": {
              "type": "string"
            },
            "text/plain": [
              "'happy birthday'"
            ]
          },
          "execution_count": 6,
          "metadata": {},
          "output_type": "execute_result"
        }
      ],
      "source": [
        "'happy birthday'"
      ]
    },
    {
      "cell_type": "markdown",
      "metadata": {
        "id": "VKz29--_xXE5"
      },
      "source": [
        "## 用type()函式，確認括號裡值的資料型別。"
      ]
    },
    {
      "cell_type": "code",
      "execution_count": null,
      "metadata": {
        "id": "23F7ZZLjxUDV"
      },
      "outputs": [],
      "source": [
        "type(\"happy birthday\")"
      ]
    },
    {
      "cell_type": "code",
      "execution_count": null,
      "metadata": {
        "id": "OqQ1bSORygq7"
      },
      "outputs": [],
      "source": [
        "xyz = \"happy birthday\"\n",
        "type(xyz)"
      ]
    },
    {
      "cell_type": "markdown",
      "metadata": {
        "id": "7Y-TtXL9zMAl"
      },
      "source": [
        "##用len()函式，確認字串的長度"
      ]
    },
    {
      "cell_type": "code",
      "execution_count": null,
      "metadata": {
        "id": "qMphv8DpzeBr"
      },
      "outputs": [],
      "source": [
        "len(\"happy birthday\")"
      ]
    },
    {
      "cell_type": "code",
      "execution_count": null,
      "metadata": {
        "id": "w9ieOvSNznr-"
      },
      "outputs": [],
      "source": [
        "xyz = \"happy birthday\"\n",
        "len(xyz)"
      ]
    },
    {
      "cell_type": "markdown",
      "metadata": {
        "id": "kZS4YT_CAiqB"
      },
      "source": [
        "## 三引號字串會保留空格和換行符號，也就是說會顯示很多行字串，和字串字面值的形式一樣。"
      ]
    },
    {
      "cell_type": "code",
      "execution_count": null,
      "metadata": {
        "id": "YhJoODIYAd0P"
      },
      "outputs": [],
      "source": [
        "print('''\n",
        " Sunday\n",
        "  Monday\n",
        "   Tuesday\n",
        "''')"
      ]
    },
    {
      "cell_type": "markdown",
      "metadata": {
        "id": "kBkFrqIVufu7"
      },
      "source": [
        "## 使用(+)可以合併字串"
      ]
    },
    {
      "cell_type": "code",
      "execution_count": null,
      "metadata": {
        "id": "NrbfifBbuPN1"
      },
      "outputs": [],
      "source": [
        "'thunder' + 'bolt'"
      ]
    },
    {
      "cell_type": "markdown",
      "metadata": {
        "id": "r4tmqp3gBPil"
      },
      "source": [
        "## 只有同為字串型別的資料可以用(+)合併，若想用+合併字串型別和數值型別的資料，就會出錯。"
      ]
    },
    {
      "cell_type": "code",
      "execution_count": null,
      "metadata": {
        "id": "056MDD1ZBqaD"
      },
      "outputs": [],
      "source": [
        "'thunder' + 100"
      ]
    },
    {
      "cell_type": "markdown",
      "metadata": {
        "id": "Qd7qDC0vukDc"
      },
      "source": [
        "## 使用(*)可以重複字串，要讓字串重複幾次"
      ]
    },
    {
      "cell_type": "code",
      "execution_count": null,
      "metadata": {
        "id": "guO8vPuKubYP"
      },
      "outputs": [],
      "source": [
        "'hunter' * 2"
      ]
    },
    {
      "cell_type": "markdown",
      "metadata": {
        "id": "iRYTs-imCDtX"
      },
      "source": [
        "## 字串和字串無法相乘(*)"
      ]
    },
    {
      "cell_type": "code",
      "execution_count": null,
      "metadata": {
        "id": "R-D7nRYyuryD"
      },
      "outputs": [],
      "source": [
        "'dragon' * 'head'"
      ]
    },
    {
      "cell_type": "markdown",
      "metadata": {
        "id": "w1mRcLQy1E6U"
      },
      "source": [
        "## 字串索引\n",
        "字串裡的每一個字元都有一個位置編號，這個編號就稱為索引(index)，可以把一個數字編號放在字串後面的兩個中括號 [ ] 裡面，取得那個編號位置的字元。\n"
      ]
    },
    {
      "cell_type": "code",
      "execution_count": null,
      "metadata": {
        "id": "YGEHm-xP17qK"
      },
      "outputs": [],
      "source": [
        "index = \"hello world\"\n",
        "index[1]"
      ]
    },
    {
      "cell_type": "markdown",
      "metadata": {
        "id": "yMnAOgqm2OtE"
      },
      "source": [
        "Python和大多數程式語言裡，計數都是從 0 開始。要用編號 0 才能取得字串最開頭的字元"
      ]
    },
    {
      "cell_type": "code",
      "execution_count": null,
      "metadata": {
        "id": "sZAqngqv2whX"
      },
      "outputs": [],
      "source": [
        "index = \"hello world\"\n",
        "index[0]"
      ]
    },
    {
      "cell_type": "markdown",
      "metadata": {
        "id": "58gWtvzJCs1d"
      },
      "source": [
        "##字串型別可以操作的功能"
      ]
    },
    {
      "cell_type": "markdown",
      "metadata": {
        "id": "zv4MVzd1vjvH"
      },
      "source": [
        "## 把字串中所有英文轉成大寫upper()、小寫lower()"
      ]
    },
    {
      "cell_type": "code",
      "execution_count": null,
      "metadata": {
        "colab": {
          "base_uri": "https://localhost:8080/",
          "height": 35
        },
        "id": "7LgzU_ShvkV9",
        "outputId": "3ae8deeb-7104-40d7-fea9-8bb13089d45f"
      },
      "outputs": [
        {
          "data": {
            "application/vnd.google.colaboratory.intrinsic+json": {
              "type": "string"
            },
            "text/plain": [
              "'HELLO'"
            ]
          },
          "execution_count": 10,
          "metadata": {},
          "output_type": "execute_result"
        }
      ],
      "source": [
        "text = 'hello'\n",
        "text.upper()"
      ]
    },
    {
      "cell_type": "markdown",
      "metadata": {
        "id": "K4XwkLfOx03N"
      },
      "source": [
        "## 字串中指定文字的數量count()，只要在()中填入想計算數量的文字\n",
        "\n",
        "\n",
        "\n",
        "\n"
      ]
    },
    {
      "cell_type": "code",
      "execution_count": null,
      "metadata": {
        "colab": {
          "base_uri": "https://localhost:8080/"
        },
        "id": "KZr0mIcUx-Xl",
        "outputId": "f4d91e19-a261-4d2b-80a8-502df731c97f"
      },
      "outputs": [
        {
          "data": {
            "text/plain": [
              "3"
            ]
          },
          "execution_count": 9,
          "metadata": {},
          "output_type": "execute_result"
        }
      ],
      "source": [
        "word = 'maintenance'\n",
        "word.count('n')"
      ]
    },
    {
      "cell_type": "markdown",
      "metadata": {
        "id": "r3XAkP-sS5p-"
      },
      "source": [
        "##發覺其他字串的方法，及使用Tab鍵自動填入。"
      ]
    },
    {
      "cell_type": "code",
      "execution_count": null,
      "metadata": {
        "id": "glUhjnkjSOki"
      },
      "outputs": [],
      "source": [
        "word = 'maintenance'\n",
        "word."
      ]
    },
    {
      "cell_type": "markdown",
      "metadata": {
        "id": "4aVRFHhuX4jQ"
      },
      "source": [
        "##和使用者的輸入互動"
      ]
    },
    {
      "cell_type": "code",
      "execution_count": null,
      "metadata": {
        "id": "sf-rPidUXq8g"
      },
      "outputs": [],
      "source": [
        "input()"
      ]
    },
    {
      "cell_type": "code",
      "execution_count": null,
      "metadata": {
        "id": "9jXFoe1kYEAT"
      },
      "outputs": [],
      "source": [
        "prompt = \"Hey, what's up ? \"\n",
        "user_input = input(prompt)\n",
        "print(\"You said: \" + user_input)"
      ]
    },
    {
      "cell_type": "markdown",
      "metadata": {
        "id": "dTgP4xWayiTM"
      },
      "source": [
        "# 邏輯型別"
      ]
    },
    {
      "cell_type": "code",
      "execution_count": null,
      "metadata": {
        "id": "5ygwRvEEynFE"
      },
      "outputs": [],
      "source": [
        "46 < 49"
      ]
    },
    {
      "cell_type": "code",
      "execution_count": null,
      "metadata": {
        "id": "DMlsg_kJysg7"
      },
      "outputs": [],
      "source": [
        "46 > 49"
      ]
    },
    {
      "cell_type": "markdown",
      "metadata": {
        "id": "1rVxwGEizFKw"
      },
      "source": [
        "# 串列(list)型別，所謂的串列就是一(串)資料，這資料可長可短，各筆資料也可以是不同型別，想建立串列型別，要用中括號[ ]把所有資料括起來，各筆資料則用逗號( ，)隔開。\n",
        "##ch02-3"
      ]
    },
    {
      "cell_type": "markdown",
      "metadata": {
        "id": "Z44EPdTQ1ZZp"
      },
      "source": [
        "## 語法:\n",
        "\n",
        "## [資料A,資料B,資料C,....]\n",
        "\n",
        "## 資料的順序是從第0筆開始"
      ]
    },
    {
      "cell_type": "code",
      "execution_count": null,
      "metadata": {
        "id": "OBH6o7HRzOlz"
      },
      "outputs": [],
      "source": [
        "Agroup = ['kazu', 'gorou']\n",
        "\n",
        "Bgroup = ['syun', 'haruka']\n",
        "\n",
        "Agroup[0]"
      ]
    },
    {
      "cell_type": "code",
      "execution_count": null,
      "metadata": {
        "id": "PzMI9Olmzp-U"
      },
      "outputs": [],
      "source": [
        "Bgroup[1]"
      ]
    },
    {
      "cell_type": "markdown",
      "metadata": {
        "id": "St6VRDMTz3cF"
      },
      "source": [
        "##在串列中加入新元素append()"
      ]
    },
    {
      "cell_type": "code",
      "execution_count": null,
      "metadata": {
        "id": "tX42jI4z0FqE"
      },
      "outputs": [],
      "source": [
        "Agroup = ['kazu', 'gorou']\n",
        "Agroup.append('dai')\n",
        "Agroup"
      ]
    },
    {
      "cell_type": "markdown",
      "metadata": {
        "id": "tRlPYXKU0NJc"
      },
      "source": [
        "## 在串列中刪除新元素remove()"
      ]
    },
    {
      "cell_type": "code",
      "execution_count": null,
      "metadata": {
        "id": "uAtrdqY50X5r"
      },
      "outputs": [],
      "source": [
        "Agroup.remove('kazu')\n",
        "Agroup"
      ]
    },
    {
      "cell_type": "markdown",
      "metadata": {
        "id": "6YFaBO1b0qym"
      },
      "source": [
        "##串列中元素的順序sort()，依英文字母a~z"
      ]
    },
    {
      "cell_type": "code",
      "execution_count": null,
      "metadata": {
        "colab": {
          "base_uri": "https://localhost:8080/"
        },
        "id": "qlAEjl6b02UV",
        "outputId": "22c71507-8a17-4411-88a3-d83cdf06b9a6"
      },
      "outputs": [
        {
          "data": {
            "text/plain": [
              "['dai', 'gorou', 'kazu']"
            ]
          },
          "execution_count": 20,
          "metadata": {},
          "output_type": "execute_result"
        }
      ],
      "source": [
        "Agroup = ['kazu', 'gorou', 'dai']\n",
        "Agroup.sort()\n",
        "Agroup"
      ]
    },
    {
      "cell_type": "markdown",
      "metadata": {
        "id": "glWVc8KX1nce"
      },
      "source": [
        "## 串列中元素的順序sort()，依數字大小順序"
      ]
    },
    {
      "cell_type": "code",
      "execution_count": null,
      "metadata": {
        "colab": {
          "base_uri": "https://localhost:8080/"
        },
        "id": "WZRSobDS1ip5",
        "outputId": "60514d84-0b75-4a28-aa42-69521cfa6fc1"
      },
      "outputs": [
        {
          "data": {
            "text/plain": [
              "[50, 55, 66, 78, 87, 99]"
            ]
          },
          "execution_count": 21,
          "metadata": {},
          "output_type": "execute_result"
        }
      ],
      "source": [
        "test_result = [87, 55, 99, 50, 66, 78]\n",
        "test_result.sort()\n",
        "test_result"
      ]
    },
    {
      "cell_type": "code",
      "execution_count": null,
      "metadata": {
        "id": "vlnEePul10gV"
      },
      "outputs": [],
      "source": [
        "mix_list = [85, 'kazu', 'dai', 100]\n",
        "mix_list.sort()"
      ]
    },
    {
      "cell_type": "markdown",
      "metadata": {
        "id": "g_NrhgXO16M2"
      },
      "source": [
        "# 字典類型(dict)  {鍵key:值value}"
      ]
    },
    {
      "cell_type": "markdown",
      "metadata": {
        "id": "1sJZAacB8ljD"
      },
      "source": [
        "##語法\n",
        "\n",
        "## {鍵1:值1,鍵2:值2,....}\n",
        "\n",
        "## 每筆資料成對存在就是字典型別得最大特點"
      ]
    },
    {
      "cell_type": "code",
      "execution_count": null,
      "metadata": {
        "id": "ZQ49GEes2A5l"
      },
      "outputs": [],
      "source": [
        "activities = {'Monday':'籃球', 'Tuesday':'自行車', 'Wednesday':'熱音', 'Friday':'游泳'}"
      ]
    },
    {
      "cell_type": "code",
      "execution_count": null,
      "metadata": {
        "id": "GsaYaEjH2lau"
      },
      "outputs": [],
      "source": [
        "activities['Tuesday']"
      ]
    },
    {
      "cell_type": "code",
      "execution_count": null,
      "metadata": {
        "id": "dvmmluXw2oTX"
      },
      "outputs": [],
      "source": [
        "activities['Friday']"
      ]
    },
    {
      "cell_type": "code",
      "execution_count": null,
      "metadata": {
        "id": "k060_GUD36WD"
      },
      "outputs": [],
      "source": [
        "activities.keys()"
      ]
    },
    {
      "cell_type": "code",
      "execution_count": null,
      "metadata": {
        "id": "GiQMeih-3_f3"
      },
      "outputs": [],
      "source": [
        "activities.values()"
      ]
    },
    {
      "cell_type": "markdown",
      "metadata": {
        "id": "Ajmqnr8R4fFl"
      },
      "source": [
        "#tuple型別\n",
        "## tuple可以視為和串列(list)完全一樣，只除了其中的元素是不可更改的，這就是tuple的最大特點。因此如果不希望值被更動的時候，就是適合用tuple的時機。\n",
        "\n",
        "##建立tuple型別，是用小括號(   )把所有資料括起來。\n"
      ]
    },
    {
      "cell_type": "markdown",
      "metadata": {
        "id": "l5eLfmRW_7UO"
      },
      "source": [
        "###語法\n",
        "\n",
        "### (元素A,元素B,元素C,...)"
      ]
    },
    {
      "cell_type": "code",
      "execution_count": null,
      "metadata": {
        "colab": {
          "base_uri": "https://localhost:8080/"
        },
        "id": "i_IbbPRf4zVQ",
        "outputId": "2e0c43e6-ef10-447e-fd6d-454b1d55fc18"
      },
      "outputs": [
        {
          "data": {
            "text/plain": [
              "('apple', 3, 90.4)"
            ]
          },
          "execution_count": 2,
          "metadata": {},
          "output_type": "execute_result"
        }
      ],
      "source": [
        "tuple_sample = ('apple', 3, 90.4)\n",
        "tuple_sample"
      ]
    },
    {
      "cell_type": "markdown",
      "metadata": {
        "id": "KIzW8TR5BN6y"
      },
      "source": [
        "### 串列範例，可以更改。"
      ]
    },
    {
      "cell_type": "code",
      "execution_count": null,
      "metadata": {
        "id": "QEoihCVx5CXs"
      },
      "outputs": [],
      "source": [
        "flavor_list = ['薄荷', '巧克力', '草莓', '香草']\n",
        "flavor_list[0] = '蘭姆葡萄乾'\n",
        "print(flavor_list)"
      ]
    },
    {
      "cell_type": "markdown",
      "metadata": {
        "id": "CSP4cEaZBU1S"
      },
      "source": [
        "### tuple範例，不可以更改。"
      ]
    },
    {
      "cell_type": "code",
      "execution_count": null,
      "metadata": {
        "id": "QWZCnS-z5FoR"
      },
      "outputs": [],
      "source": [
        "flavor_tuple = ('薄荷', '巧克力', '草莓', '香草')\n",
        "flavor_tuple[0] = '蘭姆葡萄乾'"
      ]
    },
    {
      "cell_type": "code",
      "execution_count": null,
      "metadata": {
        "id": "ZX28qSPx5ZEV"
      },
      "outputs": [],
      "source": [
        "print(flavor_tuple)"
      ]
    },
    {
      "cell_type": "markdown",
      "metadata": {
        "id": "MLn9VOSkDegl"
      },
      "source": [
        "### 用tuple型別當作字典的鍵(key)\n"
      ]
    },
    {
      "cell_type": "code",
      "execution_count": null,
      "metadata": {
        "colab": {
          "base_uri": "https://localhost:8080/"
        },
        "id": "rpF5vRmh6Tg9",
        "outputId": "21239768-980c-4afa-c9d1-1e82b53709b0"
      },
      "outputs": [
        {
          "name": "stdout",
          "output_type": "stream",
          "text": [
            "{('kamata', '08-01'): '70kg'}\n"
          ]
        }
      ],
      "source": [
        "diary = {}     #建立字典\n",
        "key = ('kamata', '08-01')   #建立tuple\n",
        "diary[key] = '70kg'\n",
        "print(diary)"
      ]
    },
    {
      "cell_type": "markdown",
      "metadata": {
        "id": "NFln3IXuD7lV"
      },
      "source": [
        "### 用串列型別當作字典的鍵(key)"
      ]
    },
    {
      "cell_type": "code",
      "execution_count": null,
      "metadata": {
        "id": "o3CCZBp2662G"
      },
      "outputs": [],
      "source": [
        "diary = {} #建立字典\n",
        "key = ['nakata', '08-01'] #建立串列\n",
        "diary[key] = '50kg'"
      ]
    },
    {
      "cell_type": "markdown",
      "metadata": {
        "id": "eDNU4c3yOggp"
      },
      "source": [
        "# set(集合)型別，用{  }框起來"
      ]
    },
    {
      "cell_type": "code",
      "execution_count": null,
      "metadata": {
        "colab": {
          "base_uri": "https://localhost:8080/"
        },
        "id": "Tap9McA8O3cn",
        "outputId": "2e74e528-3106-49bb-cf29-89a5dd4c6d32"
      },
      "outputs": [
        {
          "name": "stdout",
          "output_type": "stream",
          "text": [
            "{'fantastic', 'delicious'}\n"
          ]
        }
      ],
      "source": [
        "candy = {'delicious', 'fantastic'}\n",
        "print(candy)"
      ]
    },
    {
      "cell_type": "markdown",
      "metadata": {
        "id": "DETFT-9DFLcR"
      },
      "source": [
        "###可以使用set()這個函式來建立集合(一堆隨機擺放，沒有固定順序的字母)，由於(無順序)的特點，每個人看到的順序不一樣。\n",
        "\n",
        "###另一個特點:不會儲存相同的資料，如果有重複的資料則會被合併。"
      ]
    },
    {
      "cell_type": "code",
      "execution_count": null,
      "metadata": {
        "colab": {
          "base_uri": "https://localhost:8080/"
        },
        "id": "RP26YFICPGZi",
        "outputId": "50b5e850-187b-449e-bfde-c2a96e732c33"
      },
      "outputs": [
        {
          "name": "stdout",
          "output_type": "stream",
          "text": [
            "{'d', 'e', 's', 'l', 'c', 'u', 'i', 'o'}\n"
          ]
        }
      ],
      "source": [
        "candy = set('delicious')\n",
        "print(candy)"
      ]
    },
    {
      "cell_type": "code",
      "execution_count": null,
      "metadata": {
        "colab": {
          "base_uri": "https://localhost:8080/"
        },
        "id": "573B_gyDPbcm",
        "outputId": "e6c9d2f1-3283-4564-c510-47e3f286a524"
      },
      "outputs": [
        {
          "data": {
            "text/plain": [
              "{'apple', 'peach', 'soda'}"
            ]
          },
          "execution_count": 6,
          "metadata": {},
          "output_type": "execute_result"
        }
      ],
      "source": [
        "flavor = ['apple', 'peach', 'soda']\n",
        "candy = set(flavor)\n",
        "candy"
      ]
    },
    {
      "cell_type": "code",
      "execution_count": null,
      "metadata": {
        "id": "WgZp6BhdPe9G"
      },
      "outputs": [],
      "source": [
        "candy.update(['grape'])\n",
        "candy"
      ]
    },
    {
      "cell_type": "code",
      "execution_count": null,
      "metadata": {
        "colab": {
          "base_uri": "https://localhost:8080/"
        },
        "id": "GQQRzhVNjIiI",
        "outputId": "8a73e2a9-e893-4e84-9c10-6a20d624315e"
      },
      "outputs": [
        {
          "name": "stdout",
          "output_type": "stream",
          "text": [
            "{'c', 'a', 'r', 'b', 'd'}\n"
          ]
        }
      ],
      "source": [
        "a = set('abracadabra')\n",
        "print(a)"
      ]
    },
    {
      "cell_type": "markdown",
      "metadata": {
        "id": "QrdaRZ4PJDSU"
      },
      "source": [
        "##set用在哪(一):刪除重複元素"
      ]
    },
    {
      "cell_type": "markdown",
      "metadata": {
        "id": "PEA4VN93Jpf8"
      },
      "source": [
        "## 把串列轉換成set，重複資料就會被刪除。"
      ]
    },
    {
      "cell_type": "code",
      "execution_count": null,
      "metadata": {
        "id": "Bgha6K2bQAmp"
      },
      "outputs": [],
      "source": [
        "music = ['my_love', 'life', 'life', 'good_time']\n",
        "music_set = set(music)\n",
        "print(music_set)"
      ]
    },
    {
      "cell_type": "markdown",
      "metadata": {
        "id": "gR6DbGVsJ8l9"
      },
      "source": [
        "## 刪除set重複資料後，再轉換成串列。"
      ]
    },
    {
      "cell_type": "code",
      "execution_count": null,
      "metadata": {
        "id": "VCKKITbqQGN3"
      },
      "outputs": [],
      "source": [
        "music = list(music_set)\n",
        "print(music)"
      ]
    },
    {
      "cell_type": "markdown",
      "metadata": {
        "id": "4JEqFNmZKcXJ"
      },
      "source": [
        "##set用在哪(二):set之間的運算"
      ]
    },
    {
      "cell_type": "code",
      "execution_count": null,
      "metadata": {
        "id": "d3vil0K3Qdtp"
      },
      "outputs": [],
      "source": [
        "limited_cd = {'good_day', 'chocolate', 'loyalty'}\n",
        "\n",
        "normal_cd = {'good_day', 'chocolate'}\n",
        "\n",
        "limited_cd - normal_cd"
      ]
    },
    {
      "cell_type": "code",
      "execution_count": null,
      "metadata": {
        "colab": {
          "base_uri": "https://localhost:8080/"
        },
        "id": "p1jPY_UxQgRg",
        "outputId": "07c671fa-e3f0-4263-8d49-b15ded3f7a50"
      },
      "outputs": [
        {
          "data": {
            "text/plain": [
              "{'chocolate', 'good_day'}"
            ]
          },
          "execution_count": 8,
          "metadata": {},
          "output_type": "execute_result"
        }
      ],
      "source": [
        "limited_cd & normal_cd"
      ]
    },
    {
      "cell_type": "markdown",
      "metadata": {
        "id": "ApO8wxJFLhPo"
      },
      "source": [
        "#ch03程式設計基礎，流程控制、函式、標準函式庫\n",
        "##ch03-1\n",
        "##if判斷式，(如果....就....)的條件判斷。如果YES就這樣做、如果NO就那樣做。\n",
        "\n",
        "##需要Tab鍵，縮排。"
      ]
    },
    {
      "cell_type": "code",
      "execution_count": null,
      "metadata": {
        "id": "S9n9dnZNeXNS"
      },
      "outputs": [],
      "source": [
        "age = 29                  #把29這數值，指派給age變數，假設客人的年齡是29歲\n",
        "if (18 <= age):           #條件判斷，如果年齡大於18歲\n",
        "    print('賣票給他')      #條件成立，賣票給她"
      ]
    },
    {
      "cell_type": "code",
      "execution_count": null,
      "metadata": {
        "id": "GhQ-0e7yeaZw"
      },
      "outputs": [],
      "source": [
        "age = 15             #假設客人的年齡15歲\n",
        "if (18 <= age):      #條件判斷，年齡是否大於18歲\n",
        "    print('賣票給他') #按下enter執行，這次沒有輸出任何結果，(當18<=age，為Ture(真)時就執行程式區塊，否則略過程式)"
      ]
    },
    {
      "cell_type": "markdown",
      "metadata": {
        "id": "Ugf2-MvECk7k"
      },
      "source": [
        "##if 條件:\n",
        "##  Tab>  條件為True 時執行的程式區塊(可以多行)[A]\n",
        "\n",
        "##else(否則):\n",
        "##  Tab> 條件為False時執行的程式區塊(可以多行)[B]"
      ]
    },
    {
      "cell_type": "markdown",
      "metadata": {
        "id": "LTXh8-whqe3k"
      },
      "source": [
        "## 當條件為True 時執行[A]程式區塊;當條件為False時則會跳過[A]，去執行[B]程式區塊(即條件為True 時[B]就不會被執行)"
      ]
    },
    {
      "cell_type": "code",
      "execution_count": null,
      "metadata": {
        "id": "lUT6X39gefDg"
      },
      "outputs": [],
      "source": [
        "age = 15\n",
        "if (18 <= age):\n",
        "    print('賣票給他')   #若判斷為True,執行這一行程式\n",
        "else:\n",
        "    print('不賣票給他') #若判斷為False,執行這一行程式"
      ]
    },
    {
      "cell_type": "markdown",
      "metadata": {
        "id": "gg2PQiywsHaB"
      },
      "source": [
        "##if 條件1:\n",
        "##  Tab>  條件1為True 時執行的程式區塊   ....[A]\n",
        "\n",
        "##elif(否則如果)條件2:\n",
        "##  Tab>  條件2為True 時執行的程式區塊   ....[B]\n",
        "\n",
        "##else(否則):\n",
        "##  Tab> 條件1和條件2都 False時執行的程式區塊..[C]"
      ]
    },
    {
      "cell_type": "markdown",
      "metadata": {
        "id": "zJCKNbDCsEEq"
      },
      "source": [
        "##如果條件1為True,就為執行[A]，否則，如果條件2為True就執行[B];最後，如果條件1和條件2都為False就執行[C]。"
      ]
    },
    {
      "cell_type": "code",
      "execution_count": null,
      "metadata": {
        "colab": {
          "base_uri": "https://localhost:8080/"
        },
        "id": "yY9cGvyefoJG",
        "outputId": "cff7be2e-e0a5-49d4-9b45-11ff8ccff0f4"
      },
      "outputs": [
        {
          "name": "stdout",
          "output_type": "stream",
          "text": [
            "票價為 200 元\n"
          ]
        }
      ],
      "source": [
        "age = 70\n",
        "if (60 <= age):\n",
        "    print ('票價為 200 元')\n",
        "elif (18 <= age):\n",
        "    print ('票價為 400 元')\n",
        "else:\n",
        "    print ('不賣票')"
      ]
    },
    {
      "cell_type": "markdown",
      "metadata": {
        "id": "BTiG5nXm4Ggu"
      },
      "source": [
        "## 如果條件函式對換，則產生以下不一樣的答案"
      ]
    },
    {
      "cell_type": "code",
      "execution_count": null,
      "metadata": {
        "colab": {
          "base_uri": "https://localhost:8080/"
        },
        "id": "FEi_P3ct3xoI",
        "outputId": "3b35f32a-4c44-47f0-e444-b7889a40c52b"
      },
      "outputs": [
        {
          "name": "stdout",
          "output_type": "stream",
          "text": [
            "票價為 400 元\n"
          ]
        }
      ],
      "source": [
        "age = 70\n",
        "if (18 <= age):\n",
        "\tprint ('票價為 400 元')\n",
        "elif (60 <= age):\n",
        "\tprint ('票價為 200 元')\n",
        "else:\n",
        "\tprint ('不賣票')"
      ]
    },
    {
      "cell_type": "markdown",
      "metadata": {
        "id": "zcF5NJ6c4V2P"
      },
      "source": [
        "## 增加18歲(含)以上，50歲(含)以下"
      ]
    },
    {
      "cell_type": "code",
      "execution_count": null,
      "metadata": {
        "colab": {
          "base_uri": "https://localhost:8080/"
        },
        "id": "qwsVZNJz4Drl",
        "outputId": "00160398-6748-4159-d23f-d5761ff8768b"
      },
      "outputs": [
        {
          "name": "stdout",
          "output_type": "stream",
          "text": [
            "票價為 200 元\n"
          ]
        }
      ],
      "source": [
        "age = 70\n",
        "if (18 <= age <= 59):\n",
        "\tprint('票價為 400 元')\n",
        "elif (60 <= age):\n",
        "\tprint('票價為 200 元')\n",
        "else:\n",
        "\tprint('不賣票')"
      ]
    },
    {
      "cell_type": "markdown",
      "metadata": {
        "id": "BTDJkvE25TAJ"
      },
      "source": [
        "## 詢問ChatGPT\n",
        "修改時能否微調我的程式就好，並指出你改了什麼地方"
      ]
    },
    {
      "cell_type": "code",
      "execution_count": null,
      "metadata": {
        "id": "Gh3hDm4t5MYI"
      },
      "outputs": [],
      "source": [
        "def calculate_ticket_price(age):\n",
        "    if age < 18:\n",
        "        return \"18 歲以下不賣票\"\n",
        "    elif 18 <= age < 60:\n",
        "        return \"票價為 400 元\"\n",
        "    else:\n",
        "        return \"票價為 200 元\"\n",
        "\n",
        "# 輸入年齡，並計算票價\n",
        "age = int(input(\"請輸入您的年齡：\"))\n",
        "ticket_price = calculate_ticket_price(age)\n",
        "print(ticket_price)"
      ]
    },
    {
      "cell_type": "markdown",
      "metadata": {
        "id": "o4dg427E6YRD"
      },
      "source": [
        "## 看滿5次電影有優惠"
      ]
    },
    {
      "cell_type": "markdown",
      "metadata": {
        "id": "TRk4E74I5f29"
      },
      "source": [
        "###做法1:多層的if判斷式"
      ]
    },
    {
      "cell_type": "code",
      "execution_count": null,
      "metadata": {
        "id": "PjMQTw_v6QK1"
      },
      "outputs": [],
      "source": [
        "pointcard = True          #把True指派給pointcard變數，表示[有]集點卡\n",
        "count = 5                 #變數為看電影的累積次數\n",
        "if (pointcard == True):   #第一個if確認pointcard的內容值\n",
        "    if (count >= 5):      #當上面那個if為真的狀況下，再用這個if判斷是否累積達5次\n",
        "        print ('兌換成功！票價為優惠價 200 元')   #第二個if底下的區塊要縮排再縮排，才清楚他是歸在第2個if"
      ]
    },
    {
      "cell_type": "markdown",
      "metadata": {
        "id": "LgDFUBxS68-Q"
      },
      "source": [
        "###做法2:用and算符來合併條件"
      ]
    },
    {
      "cell_type": "code",
      "execution_count": null,
      "metadata": {
        "id": "E8ioSJSa67OI"
      },
      "outputs": [],
      "source": [
        "pointcard = True                           #把True指派給pointcard變數，表示[有]集點卡\n",
        "count = 5                                  #變數為看電影的累積次數\n",
        "if ((pointcard == True) and (count >= 5)): #用and把兩個判斷串起來，這行就相當於判斷(有集點卡)and(累積超過5部)\n",
        "\tprint('兌換成功！票價為優惠價 200 元')"
      ]
    },
    {
      "cell_type": "markdown",
      "metadata": {
        "id": "Z1kvLMbe67yS"
      },
      "source": [
        "## 賣電影票總整理"
      ]
    },
    {
      "cell_type": "markdown",
      "metadata": {
        "id": "MfdL-IHX8yVQ"
      },
      "source": [
        "### 寫法1"
      ]
    },
    {
      "cell_type": "code",
      "execution_count": null,
      "metadata": {
        "id": "mj279M5v8xcT"
      },
      "outputs": [],
      "source": [
        "age = 35\n",
        "pointcard = True\n",
        "count = 5\n",
        "if (age < 18):\n",
        "\tprint('不賣票')                             #不賣票的情況\n",
        "elif (60 <= age):\n",
        "\tprint('票價為 200 元')                      #60歲以上\n",
        "elif ((pointcard == True) and(count >= 5)):\n",
        "\t print('票價為 200 元')                     #有集點優惠價的人\n",
        "else:\n",
        "\tprint('票價為 400 元')                      #其他"
      ]
    },
    {
      "cell_type": "markdown",
      "metadata": {
        "id": "TT_h2kzJ85Os"
      },
      "source": [
        "### 寫法2"
      ]
    },
    {
      "cell_type": "code",
      "execution_count": null,
      "metadata": {
        "colab": {
          "base_uri": "https://localhost:8080/"
        },
        "id": "MkyhizTi889q",
        "outputId": "af470b78-f86e-4d90-d7fd-3497fc37d0db"
      },
      "outputs": [
        {
          "name": "stdout",
          "output_type": "stream",
          "text": [
            "票價為 200 元\n"
          ]
        }
      ],
      "source": [
        "age = 35\n",
        "pointcard = True\n",
        "count = 5\n",
        "if (age < 18):\n",
        "\tprint('不賣票')\n",
        "elif ((60 <= age) or((pointcard == True) and(count >= 5))):   #  or   兩種條件只要符合一個即可\n",
        "\tprint('票價為 200 元')\n",
        "else:\n",
        "\tprint('票價為 400 元')"
      ]
    },
    {
      "cell_type": "markdown",
      "metadata": {
        "id": "phE9UTD19YkQ"
      },
      "source": [
        "### 詢問ChatGPT\n",
        "幫我寫一段 python 程式，功能如下：\n",
        "1. 未滿 18 歲不能觀賞此部電影\n",
        "2. 18 歲以上、59 歲以下客人的票價為 400 元\n",
        "3. 60 歲以上客人的票價為 200 元\n",
        "4. 身上帶著集點卡，而且已經累積看過 5 部電影的客人，票價為 200 元"
      ]
    },
    {
      "cell_type": "markdown",
      "metadata": {
        "id": "80IcMyR69jjJ"
      },
      "source": [
        "### 新增區段程式有點長，請試著精簡，試著在 10 行完成"
      ]
    },
    {
      "cell_type": "markdown",
      "metadata": {
        "id": "NpLvFxke9ojn"
      },
      "source": [
        "### 新增區段不要在程式裡面用 and not 算符\n",
        "\n",
        "### 不要在程式裡面用巢狀的寫法，再給我一個版本"
      ]
    },
    {
      "cell_type": "markdown",
      "metadata": {
        "id": "gHZLyyeDCdd0"
      },
      "source": [
        "\n",
        "\n",
        "---\n",
        "\n",
        "\n"
      ]
    },
    {
      "cell_type": "markdown",
      "metadata": {
        "id": "OA0bJ4NPBoag"
      },
      "source": [
        "##ch03-2重複執行相同的動作\n",
        "## 迴圈簡單的說就是除非達到我們設定的停止條件，否則就一直重複執行"
      ]
    },
    {
      "cell_type": "markdown",
      "metadata": {
        "id": "SEUO9HztBKLd"
      },
      "source": [
        "## for迴圈的用法1\n",
        "## 語法\n",
        "##for 變數 in range(重複次數):\n",
        "  \n",
        "## > 想重複執行的程式1\n",
        "\n",
        "## > 想重複執行的程式2\n",
        "\n",
        "\n",
        "\n",
        "\n",
        "  \n"
      ]
    },
    {
      "cell_type": "code",
      "execution_count": null,
      "metadata": {
        "colab": {
          "base_uri": "https://localhost:8080/"
        },
        "id": "mgDQSWz2AjZC",
        "outputId": "05aa41bc-0d75-467c-dd44-adfbf00e08bb"
      },
      "outputs": [
        {
          "name": "stdout",
          "output_type": "stream",
          "text": [
            "熱狗做好了\n",
            "0\n",
            "熱狗做好了\n",
            "1\n",
            "熱狗做好了\n",
            "2\n"
          ]
        }
      ],
      "source": [
        "for count in range(3):   #讓迴圈重複執行3次\n",
        "\tprint('熱狗做好了')   #印出'熱狗做好了'字串\n",
        "\tprint(count)         #印出 count 變數的值"
      ]
    },
    {
      "cell_type": "markdown",
      "metadata": {
        "id": "5fk9glXa4bWg"
      },
      "source": [
        "## for迴圈的用法2:走訪資料的每個元素\n",
        "###for...in..語法中，in後面不是非得接range()不可，也可以放字串、list、tuple...等各種型別的資料，執行每一迴圈時，就會從該資料中取出一個元素，然後執行迴圈中的處理。"
      ]
    },
    {
      "cell_type": "markdown",
      "metadata": {
        "id": "R2anwDnv4-uY"
      },
      "source": [
        "## 用for走訪字串"
      ]
    },
    {
      "cell_type": "markdown",
      "metadata": {
        "id": "MxJWPyKR5qbz"
      },
      "source": [
        "### for  變數  in   各型別的資料:\n",
        "### Tab>變數所參與執行的程式區塊"
      ]
    },
    {
      "cell_type": "code",
      "execution_count": null,
      "metadata": {
        "colab": {
          "base_uri": "https://localhost:8080/"
        },
        "id": "zfDmoUQ46oGK",
        "outputId": "4d6e11b1-5352-4da6-fc47-1fadff285035"
      },
      "outputs": [
        {
          "name": "stdout",
          "output_type": "stream",
          "text": [
            "n\n",
            "i\n",
            "n\n",
            "j\n",
            "a\n"
          ]
        }
      ],
      "source": [
        "word = 'ninja'     #把'ninja'字串指派給word變數\n",
        "for chara in word: #走訪word字串\n",
        "\tprint(chara)   #每一迴圈做的處理是(走訪到誰就印出誰)"
      ]
    },
    {
      "cell_type": "markdown",
      "metadata": {
        "id": "YUNCGQyR4rX0"
      },
      "source": [
        "##用for走訪串列(list)"
      ]
    },
    {
      "cell_type": "markdown",
      "metadata": {
        "id": "6toDZZUS45gr"
      },
      "source": [
        "###串列型別的資料傳給for，針對串列中的每個元素分別執行相同的處理。\n",
        "###底下建立一個串列型別的音樂清單，然後用迴圈逐一印出串列中的個元素。"
      ]
    },
    {
      "cell_type": "code",
      "execution_count": null,
      "metadata": {
        "id": "WYmG2K3N7NFu"
      },
      "outputs": [],
      "source": [
        "music_list = ['DEATH METAL', 'ROCK', 'ANIME', 'POP']  #建立一個內含4個字串元素的串列，指派給music_list\n",
        "for music in music_list:                              #依序將musci_list中的字串指派給music變數\n",
        "\tprint('now playing... ' + music)                  #印出music的內容，並在前面加上'now playing...'"
      ]
    },
    {
      "cell_type": "markdown",
      "metadata": {
        "id": "EYBy139u6Q_7"
      },
      "source": [
        "## 用for走訪字典(dict)\n",
        "###字典型別的資料傳給for"
      ]
    },
    {
      "cell_type": "code",
      "execution_count": null,
      "metadata": {
        "id": "YV8nhIDU7QLI"
      },
      "outputs": [],
      "source": [
        "menu = {'拉麵':300, '炒飯':120, '煎餃':80}   #menu這個字典存放了3組(餐點名稱:價錢)\n",
        "for order in menu:                          #用迴圈走訪(一一讀取出來的動作就稱作走訪)，把每一迴圈要處理的資料綁定給order變數\n",
        "\tprint(order)                            #印出order變數，但只有key(鍵)，沒有value(值)\n",
        "\tprint(menu[order] * 1.10)               #用menu[order]即可(以order這個餐點(鍵)來查對應的價格(值))"
      ]
    },
    {
      "cell_type": "markdown",
      "metadata": {
        "id": "QGoweyj7CXeL"
      },
      "source": [
        "## while迴圈\n",
        "###迴圈處理功能除了for之外，還能使用while關鍵字，while迴圈可在(某條件成立)的期間不斷重複執行。\n",
        "###語法:\n",
        "###while (條件式):\n",
        "###Tab>要重複執行的程式區塊"
      ]
    },
    {
      "cell_type": "code",
      "execution_count": null,
      "metadata": {
        "id": "mQpGOoCY7TOQ"
      },
      "outputs": [],
      "source": [
        "counter = 0               #定義counter變數，綁定一個初始值0\n",
        "while (counter < 5):      #使用while，並在後方的括號中寫下條件式，在counter小於5的情況，它就會重複執行程式區塊\n",
        "\tprint(counter)        #印出目前的counter的值\n",
        "\tcounter = counter + 1 #跑一次迴圈時，將counter 加 1"
      ]
    },
    {
      "cell_type": "markdown",
      "metadata": {
        "id": "iotxCOZFFRnX"
      },
      "source": [
        "###如果沒有counter = counter + 1  會產生(無窮迴圈)，會消耗電腦效能，案ctrl+c鍵，就可以中斷。\n",
        "###以下這段程式碼中，雖然counter是小於5，但在迴圈內你並沒有增加'counter'的值，所以'counter'永遠都會是0"
      ]
    },
    {
      "cell_type": "code",
      "execution_count": null,
      "metadata": {
        "id": "-1ZWZzq27XeF"
      },
      "outputs": [],
      "source": [
        "counter = 0\n",
        "while (counter < 5):\n",
        "\tprint(counter)"
      ]
    },
    {
      "cell_type": "markdown",
      "metadata": {
        "id": "-7fsfaP-Gg-q"
      },
      "source": [
        "# 認識break與continue\n",
        "##break可以用來跳出迴圈，而continue則可直接跳回'下一圈'的開頭(後面未執行的程式就略過不執行了)"
      ]
    },
    {
      "cell_type": "markdown",
      "metadata": {
        "id": "Jn5qz8h3J5NH"
      },
      "source": [
        "## 可以跳出迴圈的break\n",
        "###以下為設計一個不停戰鬥的人物"
      ]
    },
    {
      "cell_type": "code",
      "execution_count": null,
      "metadata": {
        "colab": {
          "background_save": true
        },
        "id": "hvLBGhFb7ga7"
      },
      "outputs": [],
      "source": [
        "while(True):          #製造一直戰鬥的無窮迴圈\n",
        "\tprint('戰鬥')"
      ]
    },
    {
      "cell_type": "markdown",
      "source": [
        "### 在while迴圈中加入break時，迴圈就會被強制終止。"
      ],
      "metadata": {
        "id": "dC2YAiXlLjbT"
      }
    },
    {
      "cell_type": "code",
      "execution_count": 1,
      "metadata": {
        "id": "f4LrNv7O7jBu",
        "colab": {
          "base_uri": "https://localhost:8080/"
        },
        "outputId": "13a59376-cd0f-4eac-e70a-1e8fc2a4ed0d"
      },
      "outputs": [
        {
          "output_type": "stream",
          "name": "stdout",
          "text": [
            "揮拳\n",
            "飛踢\n"
          ]
        }
      ],
      "source": [
        "while(True):               #製造無窮輝圈的程式不變\n",
        "\tprint('揮拳')\n",
        "\tprint('飛踢')\n",
        "\tbreak                  #加入break，迴圈停止\n",
        "\tprint('必殺奧義')"
      ]
    },
    {
      "cell_type": "markdown",
      "source": [],
      "metadata": {
        "id": "Ge4b3DJaM6cW"
      }
    },
    {
      "cell_type": "code",
      "execution_count": null,
      "metadata": {
        "id": "HT4eNQ2x7lqr"
      },
      "outputs": [],
      "source": [
        "power = 2\n",
        "while(True):\n",
        "\tprint('揮拳')\n",
        "\tprint('飛踢')\n",
        "\tprint('必殺奧義')\n",
        "\tpower = power -1\n",
        "\tif (power == 0):\n",
        "\t\tbreak"
      ]
    },
    {
      "cell_type": "code",
      "execution_count": null,
      "metadata": {
        "id": "gmw7gtlI7oFv"
      },
      "outputs": [],
      "source": [
        "family = ['ryu-ko', 'mako', 'satsuki']\n",
        "for kid in family:\n",
        "\tprint('早安！' + kid)\n",
        "\tprint('起床')\n",
        "\tprint('吃早餐')\n",
        "\tcontinue\n",
        "\tprint('去學校')"
      ]
    },
    {
      "cell_type": "code",
      "execution_count": null,
      "metadata": {
        "id": "-_an8X1x7sIJ"
      },
      "outputs": [],
      "source": [
        "i = 1\n",
        "while True:\n",
        "\tif i == 5:\n",
        "\t\ti += 1\n",
        "\t\tcontinue\n",
        "\tprint(i, end=' ')\n",
        "\tif i == 10:\n",
        "\t\tbreak\n",
        "\ti += 1\n",
        "print('結束')"
      ]
    },
    {
      "cell_type": "code",
      "execution_count": null,
      "metadata": {
        "id": "jMHiyzFx7vQk"
      },
      "outputs": [],
      "source": [
        "i = 1\n",
        "while True:\n",
        "\tif i == 5:\n",
        "\t\ti += 1\n",
        "\t\tcontinue\n",
        "\tprint(i, end=' ')\n",
        "\tif i == 10:\n",
        "\t\tbreak\n",
        "\ti += 1\n",
        "print('結束')"
      ]
    }
  ],
  "metadata": {
    "colab": {
      "gpuType": "T4",
      "provenance": [],
      "authorship_tag": "ABX9TyNImRSWiS9s6VwUdxJ+GDOc",
      "include_colab_link": true
    },
    "kernelspec": {
      "display_name": "Python 3",
      "name": "python3"
    },
    "language_info": {
      "name": "python"
    }
  },
  "nbformat": 4,
  "nbformat_minor": 0
}