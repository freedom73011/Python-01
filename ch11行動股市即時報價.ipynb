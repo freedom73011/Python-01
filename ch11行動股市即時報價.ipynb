{
  "nbformat": 4,
  "nbformat_minor": 0,
  "metadata": {
    "colab": {
      "provenance": [],
      "include_colab_link": true
    },
    "kernelspec": {
      "name": "python3",
      "display_name": "Python 3"
    },
    "language_info": {
      "name": "python"
    }
  },
  "cells": [
    {
      "cell_type": "markdown",
      "metadata": {
        "id": "view-in-github",
        "colab_type": "text"
      },
      "source": [
        "<a href=\"https://colab.research.google.com/github/freedom73011/Python-01/blob/main/ch11%E8%A1%8C%E5%8B%95%E8%82%A1%E5%B8%82%E5%8D%B3%E6%99%82%E5%A0%B1%E5%83%B9.ipynb\" target=\"_parent\"><img src=\"https://colab.research.google.com/assets/colab-badge.svg\" alt=\"Open In Colab\"/></a>"
      ]
    },
    {
      "cell_type": "markdown",
      "source": [
        "## 台灣股市資訊模組：twstock"
      ],
      "metadata": {
        "id": "0BHjvAQqN1zJ"
      }
    },
    {
      "cell_type": "markdown",
      "source": [
        "### 查詢歷史股票資料"
      ],
      "metadata": {
        "id": "dzWZVPJAPEzM"
      }
    },
    {
      "cell_type": "code",
      "execution_count": null,
      "metadata": {
        "colab": {
          "base_uri": "https://localhost:8080/"
        },
        "id": "_Pun-rnCNi47",
        "outputId": "5206fde2-c849-4562-a8a5-568bcfb8961c"
      },
      "outputs": [
        {
          "output_type": "stream",
          "name": "stdout",
          "text": [
            "Collecting twstock\n",
            "  Downloading twstock-1.3.1-py3-none-any.whl (1.9 MB)\n",
            "\u001b[2K     \u001b[90m━━━━━━━━━━━━━━━━━━━━━━━━━━━━━━━━━━━━━━━━\u001b[0m \u001b[32m1.9/1.9 MB\u001b[0m \u001b[31m15.4 MB/s\u001b[0m eta \u001b[36m0:00:00\u001b[0m\n",
            "\u001b[?25hRequirement already satisfied: requests in /usr/local/lib/python3.10/dist-packages (from twstock) (2.31.0)\n",
            "Requirement already satisfied: charset-normalizer<4,>=2 in /usr/local/lib/python3.10/dist-packages (from requests->twstock) (3.3.2)\n",
            "Requirement already satisfied: idna<4,>=2.5 in /usr/local/lib/python3.10/dist-packages (from requests->twstock) (3.6)\n",
            "Requirement already satisfied: urllib3<3,>=1.21.1 in /usr/local/lib/python3.10/dist-packages (from requests->twstock) (2.0.7)\n",
            "Requirement already satisfied: certifi>=2017.4.17 in /usr/local/lib/python3.10/dist-packages (from requests->twstock) (2024.2.2)\n",
            "Installing collected packages: twstock\n",
            "Successfully installed twstock-1.3.1\n"
          ]
        }
      ],
      "source": [
        "!pip install twstock"
      ]
    },
    {
      "cell_type": "code",
      "source": [
        "import twstock"
      ],
      "metadata": {
        "id": "dtDNNYtpOHnC"
      },
      "execution_count": null,
      "outputs": []
    },
    {
      "cell_type": "code",
      "source": [
        "stock = twstock.Stock('2317')"
      ],
      "metadata": {
        "id": "Ldx6rK3dOM6h"
      },
      "execution_count": null,
      "outputs": []
    },
    {
      "cell_type": "code",
      "source": [
        "print(stock.price)"
      ],
      "metadata": {
        "colab": {
          "base_uri": "https://localhost:8080/"
        },
        "id": "uk4zeO8IOUzm",
        "outputId": "3889ece9-65dc-4c7a-c928-4460ffa3d690"
      },
      "execution_count": null,
      "outputs": [
        {
          "output_type": "stream",
          "name": "stdout",
          "text": [
            "[103.5, 103.5, 104.0, 103.5, 104.0, 104.5, 105.0, 104.5, 104.0, 104.0, 101.5, 101.0, 100.0, 100.5, 100.5, 100.0, 100.0, 98.6, 99.9, 100.5, 99.9, 101.0, 100.5, 102.0, 102.5, 102.5, 102.0, 102.5, 103.0, 102.0, 101.5]\n"
          ]
        }
      ]
    },
    {
      "cell_type": "code",
      "source": [
        "print(stock.price[-5:])"
      ],
      "metadata": {
        "colab": {
          "base_uri": "https://localhost:8080/"
        },
        "id": "uPeHSJNOOZB0",
        "outputId": "beff68bd-2c88-4f1b-e5d9-35b5a78e426b"
      },
      "execution_count": null,
      "outputs": [
        {
          "output_type": "stream",
          "name": "stdout",
          "text": [
            "[102.0, 102.5, 103.0, 102.0, 101.5]\n"
          ]
        }
      ]
    },
    {
      "cell_type": "markdown",
      "source": [
        "### 查詢即時股票資料"
      ],
      "metadata": {
        "id": "cpUcGVukPIR0"
      }
    },
    {
      "cell_type": "code",
      "source": [
        "real = twstock.realtime.get('2317')\n",
        "real"
      ],
      "metadata": {
        "colab": {
          "base_uri": "https://localhost:8080/"
        },
        "id": "nmt5VZDfOy3s",
        "outputId": "4f6851ba-a928-45c9-d700-0002a76f51b2"
      },
      "execution_count": null,
      "outputs": [
        {
          "output_type": "execute_result",
          "data": {
            "text/plain": [
              "{'timestamp': 1707114600.0,\n",
              " 'info': {'code': '2317',\n",
              "  'channel': '2317.tw',\n",
              "  'name': '鴻海',\n",
              "  'fullname': '鴻海精密工業股份有限公司',\n",
              "  'time': '2024-02-05 06:30:00'},\n",
              " 'realtime': {'latest_trade_price': '101.5000',\n",
              "  'trade_volume': '4307',\n",
              "  'accumulate_trade_volume': '17309',\n",
              "  'best_bid_price': ['101.5000',\n",
              "   '101.0000',\n",
              "   '100.5000',\n",
              "   '100.0000',\n",
              "   '99.9000'],\n",
              "  'best_bid_volume': ['854', '5502', '3282', '3512', '239'],\n",
              "  'best_ask_price': ['102.0000',\n",
              "   '102.5000',\n",
              "   '103.0000',\n",
              "   '103.5000',\n",
              "   '104.0000'],\n",
              "  'best_ask_volume': ['2062', '2603', '4806', '1763', '1803'],\n",
              "  'open': '101.5000',\n",
              "  'high': '102.0000',\n",
              "  'low': '101.0000'},\n",
              " 'success': True}"
            ]
          },
          "metadata": {},
          "execution_count": 6
        }
      ]
    },
    {
      "cell_type": "code",
      "source": [
        "real['realtime']['latest_trade_price']"
      ],
      "metadata": {
        "colab": {
          "base_uri": "https://localhost:8080/",
          "height": 35
        },
        "id": "Sor2JrDdPb6I",
        "outputId": "bdcc2acb-94ea-442d-dad6-e0fe1fdb5ea6"
      },
      "execution_count": null,
      "outputs": [
        {
          "output_type": "execute_result",
          "data": {
            "text/plain": [
              "'101.5000'"
            ],
            "application/vnd.google.colaboratory.intrinsic+json": {
              "type": "string"
            }
          },
          "metadata": {},
          "execution_count": 7
        }
      ]
    },
    {
      "cell_type": "code",
      "source": [
        "import twstock\n",
        "\n",
        "stock = twstock.Stock('2317')  #鴻海\n",
        "print('近31個收盤價：')\n",
        "print(stock.price)   #近31個收盤價\n",
        "print('近6個收盤價：')\n",
        "print(stock.price[-6:])   #近6日之收盤價\n",
        "while True:\n",
        "    real = twstock.realtime.get('2317')\n",
        "    if real['success']:\n",
        "        if real['realtime']['latest_trade_price'] != '-':\n",
        "            print('即時股票資料：')\n",
        "            print(real)  #即時資料\n",
        "            print('目前股價：')\n",
        "            print(real['realtime']['latest_trade_price']) #即時價格\n",
        "            break\n",
        "    else:\n",
        "        print('錯誤：' + real['rtmessage'])\n"
      ],
      "metadata": {
        "id": "NaycOIqXbExr"
      },
      "execution_count": null,
      "outputs": []
    },
    {
      "cell_type": "markdown",
      "source": [
        "## 發送 LINE Notify 通知"
      ],
      "metadata": {
        "id": "df5FlXAHhrBJ"
      }
    },
    {
      "cell_type": "code",
      "source": [
        "import requests\n",
        "\n",
        "msg = '這是 LINE Notify 發送的訊息。'\n",
        "token = 'REY8GjrzKlZtAY6pN05NTPaMDsGmyAjxHcpQb6fW2VO'  #權杖\n",
        "headers = {\n",
        "    \"Authorization\": \"Bearer \" + token,\n",
        "    \"Content-Type\" : \"application/x-www-form-urlencoded\"\n",
        "}\n",
        "payload = {'message': msg}\n",
        "notify = requests.post(\"https://notify-api.line.me/api/notify\", headers = headers, params = payload)\n",
        "if notify.status_code == 200:\n",
        "    print('發送 LINE Notify 成功！')\n",
        "else:\n",
        "    print('發送 LINE Notify 失敗！')"
      ],
      "metadata": {
        "colab": {
          "base_uri": "https://localhost:8080/"
        },
        "id": "yI8LMeJmhs1i",
        "outputId": "7d61ff7e-ef1b-4adc-be7c-53d9e3574b68"
      },
      "execution_count": null,
      "outputs": [
        {
          "output_type": "stream",
          "name": "stdout",
          "text": [
            "發送 LINE Notify 成功！\n"
          ]
        }
      ]
    },
    {
      "cell_type": "markdown",
      "source": [
        "## 實戰：用LINE傳送即時股價"
      ],
      "metadata": {
        "id": "9FwAAsuGkMsR"
      }
    },
    {
      "cell_type": "code",
      "source": [
        "import twstock\n",
        "import time\n",
        "import requests\n",
        "\n",
        "def lineNotify(token, msg):\n",
        "    headers = {\n",
        "        \"Authorization\": \"Bearer \" + token,\n",
        "        \"Content-Type\" : \"application/x-www-form-urlencoded\"\n",
        "    }\n",
        "\n",
        "    payload = {'message': msg}\n",
        "    notify = requests.post(\"https://notify-api.line.me/api/notify\", headers = headers, params = payload)\n",
        "    return notify.status_code\n",
        "\n",
        "def sendline(mode, realprice, counterLine, token):\n",
        "    print('鴻海目前股價：' + str(realprice))\n",
        "    if mode == 1:\n",
        "        message = '現在鴻海股價為 ' + str(realprice) + '元，可以賣出股票了！'\n",
        "    else:\n",
        "        message = '現在鴻海股價為 ' + str(realprice) + '元，可以買入股票了！'\n",
        "    code = lineNotify(token, message)\n",
        "    if code == 200:\n",
        "        counterLine = counterLine + 1\n",
        "        print('第 ' + str(counterLine) + ' 次發送 LINE 訊息。')\n",
        "    else:\n",
        "        print('發送 LINE 訊息失敗！')\n",
        "    return counterLine\n",
        "\n",
        "token = 'REY8GjrzKlZtAY6pN05NTPaMDsGmyAjxHcpQb6fW2VO'  #權杖\n",
        "counterLine = 0  #儲存發送次數\n",
        "counterError = 0  #儲存錯誤次數\n",
        "\n",
        "print('程式開始執行！')\n",
        "while True:\n",
        "    realdata = twstock.realtime.get('2317')  #即時資料\n",
        "    if realdata['success']:\n",
        "        realprice = realdata['realtime']['latest_trade_price']  #目前股價\n",
        "        if realprice != '-':\n",
        "            if float(realprice) >= 80:\n",
        "                counterLine = sendline(1, realprice, counterLine, token)\n",
        "            elif float(realprice) <= 60:\n",
        "                counterLine = sendline(2, realprice, counterLine, token)\n",
        "            if counterLine >= 3:  #最多發送3次就結束程式\n",
        "                print('程式結束！')\n",
        "                break\n",
        "            for i in range(300):  #每5分鐘讀一次\n",
        "                time.sleep(1)\n",
        "    else:\n",
        "        print('twstock 讀取錯誤，錯誤原因：' + realdata['rtmessage'])\n",
        "        counterError = counterError + 1\n",
        "        if counterError >= 3:  #最多錯誤3次\n",
        "            print('程式結束！')\n",
        "            break\n"
      ],
      "metadata": {
        "colab": {
          "base_uri": "https://localhost:8080/"
        },
        "id": "6UdcSQAzkOlM",
        "outputId": "8c0b815a-199e-466b-82d9-b293f391aa0e"
      },
      "execution_count": null,
      "outputs": [
        {
          "output_type": "stream",
          "name": "stdout",
          "text": [
            "程式開始執行！\n",
            "鴻海目前股價：101.5000\n",
            "第 1 次發送 LINE 訊息。\n",
            "鴻海目前股價：101.5000\n",
            "第 2 次發送 LINE 訊息。\n",
            "鴻海目前股價：101.5000\n",
            "第 3 次發送 LINE 訊息。\n",
            "程式結束！\n"
          ]
        }
      ]
    }
  ]
}