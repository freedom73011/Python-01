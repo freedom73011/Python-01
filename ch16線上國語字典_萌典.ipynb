{
  "nbformat": 4,
  "nbformat_minor": 0,
  "metadata": {
    "colab": {
      "provenance": [],
      "include_colab_link": true
    },
    "kernelspec": {
      "name": "python3",
      "display_name": "Python 3"
    },
    "language_info": {
      "name": "python"
    }
  },
  "cells": [
    {
      "cell_type": "markdown",
      "metadata": {
        "id": "view-in-github",
        "colab_type": "text"
      },
      "source": [
        "<a href=\"https://colab.research.google.com/github/freedom73011/Python-01/blob/main/ch16%E7%B7%9A%E4%B8%8A%E5%9C%8B%E8%AA%9E%E5%AD%97%E5%85%B8_%E8%90%8C%E5%85%B8.ipynb\" target=\"_parent\"><img src=\"https://colab.research.google.com/assets/colab-badge.svg\" alt=\"Open In Colab\"/></a>"
      ]
    },
    {
      "cell_type": "markdown",
      "source": [
        "## 萌典API查詢-載入資料"
      ],
      "metadata": {
        "id": "uoOAu38-r6KA"
      }
    },
    {
      "cell_type": "code",
      "execution_count": null,
      "metadata": {
        "id": "lMXvknybSlwp"
      },
      "outputs": [],
      "source": [
        "import requests\n",
        "url = \"https://www.moedict.tw/uni/車\"\n",
        "r = requests.get(url)\n",
        "print(r.text)"
      ]
    },
    {
      "cell_type": "markdown",
      "source": [
        "## JSON模組分析萌典資料"
      ],
      "metadata": {
        "id": "PG0xh_qpEG4L"
      }
    },
    {
      "cell_type": "code",
      "source": [
        "# 文字轉為dict\n",
        "import json\n",
        "datas = json.loads(r.text)\n",
        "datas"
      ],
      "metadata": {
        "id": "QcqnBZylS_Pb",
        "colab": {
          "base_uri": "https://localhost:8080/"
        },
        "outputId": "8402792e-a8c1-42af-957c-8cc975b51847"
      },
      "execution_count": null,
      "outputs": [
        {
          "output_type": "execute_result",
          "data": {
            "text/plain": [
              "{'heteronyms': [{'bopomofo': '（語音）ㄔㄜ',\n",
              "   'bopomofo2': '（語音）chē',\n",
              "   'definitions': [{'def': '陸地上靠輪子轉動而運行的交通工具。如：「汽車」、「火車」。通稱為「車子」。',\n",
              "     'type': '名'},\n",
              "    {'def': '利用輪軸轉動的機械。', 'example': ['如：「紡車」、「風車」、「水車」。'], 'type': '名'},\n",
              "    {'def': '牙床。',\n",
              "     'quote': ['左傳．僖公五年：「輔車相依，脣亡齒寒。」',\n",
              "      '杜預．注：「輔，頰輔之車，牙車。」',\n",
              "      '孔穎達．正義：「牙車，牙下骨之名。」'],\n",
              "     'type': '名'},\n",
              "    {'def': '量詞。計算車載物的單位。', 'example': ['如：「一車砂石」。'], 'type': '名'},\n",
              "    {'def': '姓。如漢代有車順。', 'type': '名'},\n",
              "    {'def': '二一四部首之一。', 'type': '名'},\n",
              "    {'def': '利用機器轉動來加以縫紉。', 'example': ['如：「車布邊」、「車衣服」、「車鞋面」。'], 'type': '動'},\n",
              "    {'def': '用機械將物品切削成圓形。', 'example': ['如：「車圓」、「車碗」、「車玻璃」。'], 'type': '動'},\n",
              "    {'def': '用水車將水引至高處。',\n",
              "     'quote': ['唐．段成式．酉陽雜俎．卷七．樂：「車水竭池，窮池索之。」'],\n",
              "     'type': '動'},\n",
              "    {'def': '用車搬運。', 'example': ['如：「請把這堆垃圾車走。」'], 'type': '動'},\n",
              "    {'def': '辨⃞&nbsp似⃞', 'type': '動'},\n",
              "    {'def': '見「車」<2>條。（05978）', 'type': '動'}],\n",
              "   'pinyin': '（語音）chē'},\n",
              "  {'bopomofo': '（讀音）ㄐㄩ',\n",
              "   'bopomofo2': '（讀音）jiū',\n",
              "   'definitions': [{'def': '<1>之讀音。'},\n",
              "    {'def': '辨⃞&nbsp似⃞'},\n",
              "    {'def': '車有ㄔㄜ、ㄐㄩ二音，為語、讀音之分，意義上沒有區別，只是在某些文言詞上今日仍習慣使用讀音，如「車馬炮」、「學富五車」等。'}],\n",
              "   'pinyin': '（讀音）jū'}],\n",
              " 'non_radical_stroke_count': 0,\n",
              " 'radical': '車',\n",
              " 'stroke_count': 7,\n",
              " 'title': '車'}"
            ]
          },
          "metadata": {},
          "execution_count": 2
        }
      ]
    },
    {
      "cell_type": "code",
      "source": [
        "# 顯示字典第一層\n",
        "print('查詢字詞：', datas['title'])\n",
        "print('部首：', datas['radical'])\n",
        "print('筆劃', datas['stroke_count'])"
      ],
      "metadata": {
        "id": "vug-ZAyQT8Os",
        "colab": {
          "base_uri": "https://localhost:8080/"
        },
        "outputId": "d8eba74c-db03-4b3d-b574-88d618ea980b"
      },
      "execution_count": null,
      "outputs": [
        {
          "output_type": "stream",
          "name": "stdout",
          "text": [
            "查詢字詞： 車\n",
            "部首： 車\n",
            "筆劃 7\n"
          ]
        }
      ]
    },
    {
      "cell_type": "code",
      "source": [
        "# 顯示字典第二層\n",
        "print('注音：', datas['heteronyms'][0]['bopomofo'].\\\n",
        "      replace('（語音）',''))\n",
        "print('羅馬拼音：', datas['heteronyms'][0]['bopomofo2'].\\\n",
        "      replace('（語音）',''))\n",
        "print('漢語拼音：', datas['heteronyms'][0]['pinyin']\\\n",
        "      .replace('（語音）',''))"
      ],
      "metadata": {
        "id": "Rmr1zE6rV6eb",
        "colab": {
          "base_uri": "https://localhost:8080/"
        },
        "outputId": "557af422-ffbe-4dc0-b95b-17e315530315"
      },
      "execution_count": null,
      "outputs": [
        {
          "output_type": "stream",
          "name": "stdout",
          "text": [
            "注音： ㄔㄜ\n",
            "羅馬拼音： chē\n",
            "漢語拼音： chē\n"
          ]
        }
      ]
    },
    {
      "cell_type": "code",
      "source": [
        "# 顯示字典第三層\n",
        "print('解釋：', datas['heteronyms'][0]['definitions'][0]['def'])\n",
        "if 'type' in (datas['heteronyms'][0]['definitions'][0]):\n",
        "  print('詞性：<{}>'.format(datas['heteronyms'][0]\\\n",
        "                         ['definitions'][0]['type']))\n",
        "if 'example' in (datas['heteronyms'][0]['definitions'][0]):\n",
        "  print('範例：<{}>'.format(datas['heteronyms'][0]\\\n",
        "                         ['definitions'][0]['example']))"
      ],
      "metadata": {
        "id": "z3RcHPEDWlvD",
        "colab": {
          "base_uri": "https://localhost:8080/"
        },
        "outputId": "74f10896-85d6-40dc-d78d-08b796177d36"
      },
      "execution_count": null,
      "outputs": [
        {
          "output_type": "stream",
          "name": "stdout",
          "text": [
            "解釋： 陸地上靠輪子轉動而運行的交通工具。如：「汽車」、「火車」。通稱為「車子」。\n",
            "詞性：<名>\n"
          ]
        }
      ]
    },
    {
      "cell_type": "markdown",
      "source": [
        "## Gradio模組建立Web App"
      ],
      "metadata": {
        "id": "Omd9pVqKtE3x"
      }
    },
    {
      "cell_type": "code",
      "source": [
        "# 安裝Gradio\n",
        "!pip install gradio"
      ],
      "metadata": {
        "colab": {
          "base_uri": "https://localhost:8080/"
        },
        "id": "NJe1mUbxtdLa",
        "outputId": "0cbb97b8-3aab-4722-f327-25b4b90cb528"
      },
      "execution_count": null,
      "outputs": [
        {
          "output_type": "stream",
          "name": "stdout",
          "text": [
            "Requirement already satisfied: gradio in /usr/local/lib/python3.10/dist-packages (4.18.0)\n",
            "Requirement already satisfied: aiofiles<24.0,>=22.0 in /usr/local/lib/python3.10/dist-packages (from gradio) (23.2.1)\n",
            "Requirement already satisfied: altair<6.0,>=4.2.0 in /usr/local/lib/python3.10/dist-packages (from gradio) (4.2.2)\n",
            "Requirement already satisfied: fastapi in /usr/local/lib/python3.10/dist-packages (from gradio) (0.109.2)\n",
            "Requirement already satisfied: ffmpy in /usr/local/lib/python3.10/dist-packages (from gradio) (0.3.2)\n",
            "Requirement already satisfied: gradio-client==0.10.0 in /usr/local/lib/python3.10/dist-packages (from gradio) (0.10.0)\n",
            "Requirement already satisfied: httpx in /usr/local/lib/python3.10/dist-packages (from gradio) (0.26.0)\n",
            "Requirement already satisfied: huggingface-hub>=0.19.3 in /usr/local/lib/python3.10/dist-packages (from gradio) (0.20.3)\n",
            "Requirement already satisfied: importlib-resources<7.0,>=1.3 in /usr/local/lib/python3.10/dist-packages (from gradio) (6.1.1)\n",
            "Requirement already satisfied: jinja2<4.0 in /usr/local/lib/python3.10/dist-packages (from gradio) (3.1.3)\n",
            "Requirement already satisfied: markupsafe~=2.0 in /usr/local/lib/python3.10/dist-packages (from gradio) (2.1.5)\n",
            "Requirement already satisfied: matplotlib~=3.0 in /usr/local/lib/python3.10/dist-packages (from gradio) (3.7.1)\n",
            "Requirement already satisfied: numpy~=1.0 in /usr/local/lib/python3.10/dist-packages (from gradio) (1.23.5)\n",
            "Requirement already satisfied: orjson~=3.0 in /usr/local/lib/python3.10/dist-packages (from gradio) (3.9.13)\n",
            "Requirement already satisfied: packaging in /usr/local/lib/python3.10/dist-packages (from gradio) (23.2)\n",
            "Requirement already satisfied: pandas<3.0,>=1.0 in /usr/local/lib/python3.10/dist-packages (from gradio) (1.5.3)\n",
            "Requirement already satisfied: pillow<11.0,>=8.0 in /usr/local/lib/python3.10/dist-packages (from gradio) (9.4.0)\n",
            "Requirement already satisfied: pydantic>=2.0 in /usr/local/lib/python3.10/dist-packages (from gradio) (2.6.1)\n",
            "Requirement already satisfied: pydub in /usr/local/lib/python3.10/dist-packages (from gradio) (0.25.1)\n",
            "Requirement already satisfied: python-multipart in /usr/local/lib/python3.10/dist-packages (from gradio) (0.0.9)\n",
            "Requirement already satisfied: pyyaml<7.0,>=5.0 in /usr/local/lib/python3.10/dist-packages (from gradio) (6.0.1)\n",
            "Requirement already satisfied: ruff>=0.1.7 in /usr/local/lib/python3.10/dist-packages (from gradio) (0.2.1)\n",
            "Requirement already satisfied: semantic-version~=2.0 in /usr/local/lib/python3.10/dist-packages (from gradio) (2.10.0)\n",
            "Requirement already satisfied: tomlkit==0.12.0 in /usr/local/lib/python3.10/dist-packages (from gradio) (0.12.0)\n",
            "Requirement already satisfied: typer[all]<1.0,>=0.9 in /usr/local/lib/python3.10/dist-packages (from gradio) (0.9.0)\n",
            "Requirement already satisfied: typing-extensions~=4.0 in /usr/local/lib/python3.10/dist-packages (from gradio) (4.9.0)\n",
            "Requirement already satisfied: uvicorn>=0.14.0 in /usr/local/lib/python3.10/dist-packages (from gradio) (0.27.1)\n",
            "Requirement already satisfied: fsspec in /usr/local/lib/python3.10/dist-packages (from gradio-client==0.10.0->gradio) (2023.6.0)\n",
            "Requirement already satisfied: websockets<12.0,>=10.0 in /usr/local/lib/python3.10/dist-packages (from gradio-client==0.10.0->gradio) (11.0.3)\n",
            "Requirement already satisfied: entrypoints in /usr/local/lib/python3.10/dist-packages (from altair<6.0,>=4.2.0->gradio) (0.4)\n",
            "Requirement already satisfied: jsonschema>=3.0 in /usr/local/lib/python3.10/dist-packages (from altair<6.0,>=4.2.0->gradio) (4.19.2)\n",
            "Requirement already satisfied: toolz in /usr/local/lib/python3.10/dist-packages (from altair<6.0,>=4.2.0->gradio) (0.12.1)\n",
            "Requirement already satisfied: filelock in /usr/local/lib/python3.10/dist-packages (from huggingface-hub>=0.19.3->gradio) (3.13.1)\n",
            "Requirement already satisfied: requests in /usr/local/lib/python3.10/dist-packages (from huggingface-hub>=0.19.3->gradio) (2.31.0)\n",
            "Requirement already satisfied: tqdm>=4.42.1 in /usr/local/lib/python3.10/dist-packages (from huggingface-hub>=0.19.3->gradio) (4.66.1)\n",
            "Requirement already satisfied: contourpy>=1.0.1 in /usr/local/lib/python3.10/dist-packages (from matplotlib~=3.0->gradio) (1.2.0)\n",
            "Requirement already satisfied: cycler>=0.10 in /usr/local/lib/python3.10/dist-packages (from matplotlib~=3.0->gradio) (0.12.1)\n",
            "Requirement already satisfied: fonttools>=4.22.0 in /usr/local/lib/python3.10/dist-packages (from matplotlib~=3.0->gradio) (4.48.1)\n",
            "Requirement already satisfied: kiwisolver>=1.0.1 in /usr/local/lib/python3.10/dist-packages (from matplotlib~=3.0->gradio) (1.4.5)\n",
            "Requirement already satisfied: pyparsing>=2.3.1 in /usr/local/lib/python3.10/dist-packages (from matplotlib~=3.0->gradio) (3.1.1)\n",
            "Requirement already satisfied: python-dateutil>=2.7 in /usr/local/lib/python3.10/dist-packages (from matplotlib~=3.0->gradio) (2.8.2)\n",
            "Requirement already satisfied: pytz>=2020.1 in /usr/local/lib/python3.10/dist-packages (from pandas<3.0,>=1.0->gradio) (2023.4)\n",
            "Requirement already satisfied: annotated-types>=0.4.0 in /usr/local/lib/python3.10/dist-packages (from pydantic>=2.0->gradio) (0.6.0)\n",
            "Requirement already satisfied: pydantic-core==2.16.2 in /usr/local/lib/python3.10/dist-packages (from pydantic>=2.0->gradio) (2.16.2)\n",
            "Requirement already satisfied: click<9.0.0,>=7.1.1 in /usr/local/lib/python3.10/dist-packages (from typer[all]<1.0,>=0.9->gradio) (8.1.7)\n",
            "Requirement already satisfied: colorama<0.5.0,>=0.4.3 in /usr/local/lib/python3.10/dist-packages (from typer[all]<1.0,>=0.9->gradio) (0.4.6)\n",
            "Requirement already satisfied: shellingham<2.0.0,>=1.3.0 in /usr/local/lib/python3.10/dist-packages (from typer[all]<1.0,>=0.9->gradio) (1.5.4)\n",
            "Requirement already satisfied: rich<14.0.0,>=10.11.0 in /usr/local/lib/python3.10/dist-packages (from typer[all]<1.0,>=0.9->gradio) (13.7.0)\n",
            "Requirement already satisfied: h11>=0.8 in /usr/local/lib/python3.10/dist-packages (from uvicorn>=0.14.0->gradio) (0.14.0)\n",
            "Requirement already satisfied: starlette<0.37.0,>=0.36.3 in /usr/local/lib/python3.10/dist-packages (from fastapi->gradio) (0.36.3)\n",
            "Requirement already satisfied: anyio in /usr/local/lib/python3.10/dist-packages (from httpx->gradio) (3.7.1)\n",
            "Requirement already satisfied: certifi in /usr/local/lib/python3.10/dist-packages (from httpx->gradio) (2024.2.2)\n",
            "Requirement already satisfied: httpcore==1.* in /usr/local/lib/python3.10/dist-packages (from httpx->gradio) (1.0.2)\n",
            "Requirement already satisfied: idna in /usr/local/lib/python3.10/dist-packages (from httpx->gradio) (3.6)\n",
            "Requirement already satisfied: sniffio in /usr/local/lib/python3.10/dist-packages (from httpx->gradio) (1.3.0)\n",
            "Requirement already satisfied: attrs>=22.2.0 in /usr/local/lib/python3.10/dist-packages (from jsonschema>=3.0->altair<6.0,>=4.2.0->gradio) (23.2.0)\n",
            "Requirement already satisfied: jsonschema-specifications>=2023.03.6 in /usr/local/lib/python3.10/dist-packages (from jsonschema>=3.0->altair<6.0,>=4.2.0->gradio) (2023.12.1)\n",
            "Requirement already satisfied: referencing>=0.28.4 in /usr/local/lib/python3.10/dist-packages (from jsonschema>=3.0->altair<6.0,>=4.2.0->gradio) (0.33.0)\n",
            "Requirement already satisfied: rpds-py>=0.7.1 in /usr/local/lib/python3.10/dist-packages (from jsonschema>=3.0->altair<6.0,>=4.2.0->gradio) (0.17.1)\n",
            "Requirement already satisfied: six>=1.5 in /usr/local/lib/python3.10/dist-packages (from python-dateutil>=2.7->matplotlib~=3.0->gradio) (1.16.0)\n",
            "Requirement already satisfied: markdown-it-py>=2.2.0 in /usr/local/lib/python3.10/dist-packages (from rich<14.0.0,>=10.11.0->typer[all]<1.0,>=0.9->gradio) (3.0.0)\n",
            "Requirement already satisfied: pygments<3.0.0,>=2.13.0 in /usr/local/lib/python3.10/dist-packages (from rich<14.0.0,>=10.11.0->typer[all]<1.0,>=0.9->gradio) (2.16.1)\n",
            "Requirement already satisfied: exceptiongroup in /usr/local/lib/python3.10/dist-packages (from anyio->httpx->gradio) (1.2.0)\n",
            "Requirement already satisfied: charset-normalizer<4,>=2 in /usr/local/lib/python3.10/dist-packages (from requests->huggingface-hub>=0.19.3->gradio) (3.3.2)\n",
            "Requirement already satisfied: urllib3<3,>=1.21.1 in /usr/local/lib/python3.10/dist-packages (from requests->huggingface-hub>=0.19.3->gradio) (2.0.7)\n",
            "Requirement already satisfied: mdurl~=0.1 in /usr/local/lib/python3.10/dist-packages (from markdown-it-py>=2.2.0->rich<14.0.0,>=10.11.0->typer[all]<1.0,>=0.9->gradio) (0.1.2)\n"
          ]
        }
      ]
    },
    {
      "cell_type": "code",
      "source": [
        "!pip install kaleido"
      ],
      "metadata": {
        "colab": {
          "base_uri": "https://localhost:8080/"
        },
        "id": "haLGVgklYGI3",
        "outputId": "40da4803-9822-40f0-9b56-34aa5f5898e0"
      },
      "execution_count": null,
      "outputs": [
        {
          "output_type": "stream",
          "name": "stdout",
          "text": [
            "Collecting kaleido\n",
            "  Downloading kaleido-0.2.1-py2.py3-none-manylinux1_x86_64.whl (79.9 MB)\n",
            "\u001b[2K     \u001b[90m━━━━━━━━━━━━━━━━━━━━━━━━━━━━━━━━━━━━━━━━\u001b[0m \u001b[32m79.9/79.9 MB\u001b[0m \u001b[31m8.4 MB/s\u001b[0m eta \u001b[36m0:00:00\u001b[0m\n",
            "\u001b[?25hInstalling collected packages: kaleido\n",
            "\u001b[31mERROR: pip's dependency resolver does not currently take into account all the packages that are installed. This behaviour is the source of the following dependency conflicts.\n",
            "lida 0.0.10 requires fastapi, which is not installed.\n",
            "lida 0.0.10 requires python-multipart, which is not installed.\n",
            "lida 0.0.10 requires uvicorn, which is not installed.\u001b[0m\u001b[31m\n",
            "\u001b[0mSuccessfully installed kaleido-0.2.1\n"
          ]
        }
      ]
    },
    {
      "cell_type": "code",
      "source": [
        "# 文字輸入/文字輸出\n",
        "import gradio as gr\n",
        "\n",
        "def rStr(text):\n",
        "  return text.replace('morning', 'night')\n",
        "\n",
        "grobj = gr.Interface(fn=rStr,\n",
        "                     inputs=gr.Textbox(),\n",
        "                     outputs=gr.Textbox())\n",
        "grobj.launch()"
      ],
      "metadata": {
        "colab": {
          "base_uri": "https://localhost:8080/",
          "height": 646
        },
        "id": "-Oiw7CYSttEf",
        "outputId": "552b2770-b975-4964-e951-4d60134fb18e"
      },
      "execution_count": null,
      "outputs": [
        {
          "output_type": "stream",
          "name": "stdout",
          "text": [
            "Setting queue=True in a Colab notebook requires sharing enabled. Setting `share=True` (you can turn this off by setting `share=False` in `launch()` explicitly).\n",
            "\n",
            "Colab notebook detected. To show errors in colab notebook, set debug=True in launch()\n",
            "Running on public URL: https://39f83d529e58b5994e.gradio.live\n",
            "\n",
            "This share link expires in 72 hours. For free permanent hosting and GPU upgrades, run `gradio deploy` from Terminal to deploy to Spaces (https://huggingface.co/spaces)\n"
          ]
        },
        {
          "output_type": "display_data",
          "data": {
            "text/plain": [
              "<IPython.core.display.HTML object>"
            ],
            "text/html": [
              "<div><iframe src=\"https://39f83d529e58b5994e.gradio.live\" width=\"100%\" height=\"500\" allow=\"autoplay; camera; microphone; clipboard-read; clipboard-write;\" frameborder=\"0\" allowfullscreen></iframe></div>"
            ]
          },
          "metadata": {}
        },
        {
          "output_type": "execute_result",
          "data": {
            "text/plain": []
          },
          "metadata": {},
          "execution_count": 9
        }
      ]
    },
    {
      "cell_type": "markdown",
      "source": [
        "## 建立線上國語字典"
      ],
      "metadata": {
        "id": "d4iia871BF6X"
      }
    },
    {
      "cell_type": "code",
      "source": [
        "import requests\n",
        "import json\n",
        "\n",
        "url = \"https://www.moedict.tw/uni/\"\n",
        "word = input(\"請輸入要查詢的國字：\")\n",
        "r = requests.get(url+word)\n",
        "datas = json.loads(r.text)\n",
        "\n",
        "# 顯示查詢字詞、部首、筆畫\n",
        "print('查詢字詞：', datas['title'])\n",
        "if 'radical' in (datas['heteronyms']):\n",
        "  print(\"部首：{}，筆劃：{}\".format(datas['radical'], datas['stroke_count']))\n",
        "\n",
        "# 顯示多音字\n",
        "for i in range(len(datas['heteronyms'])):\n",
        "  print(\"注音:{}，羅馬拼音:{}，漢語拼音：{}\".format(\n",
        "    datas['heteronyms'][i]['bopomofo'].replace('（語音）',''),\n",
        "    datas['heteronyms'][i]['bopomofo2'].replace('（語音）',''),\n",
        "    datas['heteronyms'][i]['pinyin'].replace('（語音）','')))\n",
        "  print('------------------------------------------------------------')\n",
        "  for j in range(len(datas['heteronyms'][i]['definitions'])):\n",
        "    print('解釋：{}'.format(datas['heteronyms'][i]['definitions'][j]['def']))\n",
        "    if 'quote' in (datas['heteronyms'][i]['definitions'][j]):\n",
        "      print('引用：{}'.format(' | '.join(datas['heteronyms'][i]['definitions'][j]['quote'])))\n",
        "    if 'example' in (datas['heteronyms'][i]['definitions'][j]):\n",
        "      print('範例：{}'.format(' | '.join(datas['heteronyms'][i]['definitions'][j]['example'])))\n",
        "    if 'link' in (datas['heteronyms'][i]['definitions'][j]):\n",
        "      print('連結：{}'.format(' | '.join(datas['heteronyms'][i]['definitions'][j]['link'])))\n",
        "    if 'type' in (datas['heteronyms'][i]['definitions'][j]):\n",
        "      print('詞性：<{}詞>'.format(datas['heteronyms'][i]['definitions'][j]['type']))\n",
        "    if j < len(datas['heteronyms'][i]['definitions'])-1:\n",
        "      print('------------------------------------------------------------')\n",
        "  if i < len(datas['heteronyms'])-1:\n",
        "    print('============================================================')"
      ],
      "metadata": {
        "id": "6NbdWxk-ttM5",
        "colab": {
          "base_uri": "https://localhost:8080/"
        },
        "outputId": "15ed17fa-9d29-4b4b-896a-c100098cb5dd"
      },
      "execution_count": null,
      "outputs": [
        {
          "output_type": "stream",
          "name": "stdout",
          "text": [
            "請輸入要查詢的國字：車\n",
            "查詢字詞： 車\n",
            "注音:ㄔㄜ，羅馬拼音:chē，漢語拼音：chē\n",
            "------------------------------------------------------------\n",
            "解釋：陸地上靠輪子轉動而運行的交通工具。如：「汽車」、「火車」。通稱為「車子」。\n",
            "詞性：<名詞>\n",
            "------------------------------------------------------------\n",
            "解釋：利用輪軸轉動的機械。\n",
            "範例：如：「紡車」、「風車」、「水車」。\n",
            "詞性：<名詞>\n",
            "------------------------------------------------------------\n",
            "解釋：牙床。\n",
            "引用：左傳．僖公五年：「輔車相依，脣亡齒寒。」 | 杜預．注：「輔，頰輔之車，牙車。」 | 孔穎達．正義：「牙車，牙下骨之名。」\n",
            "詞性：<名詞>\n",
            "------------------------------------------------------------\n",
            "解釋：量詞。計算車載物的單位。\n",
            "範例：如：「一車砂石」。\n",
            "詞性：<名詞>\n",
            "------------------------------------------------------------\n",
            "解釋：姓。如漢代有車順。\n",
            "詞性：<名詞>\n",
            "------------------------------------------------------------\n",
            "解釋：二一四部首之一。\n",
            "詞性：<名詞>\n",
            "------------------------------------------------------------\n",
            "解釋：利用機器轉動來加以縫紉。\n",
            "範例：如：「車布邊」、「車衣服」、「車鞋面」。\n",
            "詞性：<動詞>\n",
            "------------------------------------------------------------\n",
            "解釋：用機械將物品切削成圓形。\n",
            "範例：如：「車圓」、「車碗」、「車玻璃」。\n",
            "詞性：<動詞>\n",
            "------------------------------------------------------------\n",
            "解釋：用水車將水引至高處。\n",
            "引用：唐．段成式．酉陽雜俎．卷七．樂：「車水竭池，窮池索之。」\n",
            "詞性：<動詞>\n",
            "------------------------------------------------------------\n",
            "解釋：用車搬運。\n",
            "範例：如：「請把這堆垃圾車走。」\n",
            "詞性：<動詞>\n",
            "------------------------------------------------------------\n",
            "解釋：辨⃞&nbsp似⃞\n",
            "詞性：<動詞>\n",
            "------------------------------------------------------------\n",
            "解釋：見「車」<2>條。（05978）\n",
            "詞性：<動詞>\n",
            "============================================================\n",
            "注音:（讀音）ㄐㄩ，羅馬拼音:（讀音）jiū，漢語拼音：（讀音）jū\n",
            "------------------------------------------------------------\n",
            "解釋：<1>之讀音。\n",
            "------------------------------------------------------------\n",
            "解釋：辨⃞&nbsp似⃞\n",
            "------------------------------------------------------------\n",
            "解釋：車有ㄔㄜ、ㄐㄩ二音，為語、讀音之分，意義上沒有區別，只是在某些文言詞上今日仍習慣使用讀音，如「車馬炮」、「學富五車」等。\n"
          ]
        }
      ]
    },
    {
      "cell_type": "markdown",
      "source": [
        "## 建立萌典Web App"
      ],
      "metadata": {
        "id": "sPetlzvjFQ87"
      }
    },
    {
      "cell_type": "code",
      "source": [
        "# 安裝Gradio\n",
        "!pip install gradio"
      ],
      "metadata": {
        "id": "7_0KA_cxttbF",
        "colab": {
          "base_uri": "https://localhost:8080/"
        },
        "outputId": "84a94194-289c-4802-fbe4-e083ef25fc12"
      },
      "execution_count": null,
      "outputs": [
        {
          "output_type": "stream",
          "name": "stdout",
          "text": [
            "Collecting gradio\n",
            "  Downloading gradio-4.18.0-py3-none-any.whl (16.8 MB)\n",
            "\u001b[2K     \u001b[90m━━━━━━━━━━━━━━━━━━━━━━━━━━━━━━━━━━━━━━━━\u001b[0m \u001b[32m16.8/16.8 MB\u001b[0m \u001b[31m31.2 MB/s\u001b[0m eta \u001b[36m0:00:00\u001b[0m\n",
            "\u001b[?25hCollecting aiofiles<24.0,>=22.0 (from gradio)\n",
            "  Downloading aiofiles-23.2.1-py3-none-any.whl (15 kB)\n",
            "Requirement already satisfied: altair<6.0,>=4.2.0 in /usr/local/lib/python3.10/dist-packages (from gradio) (4.2.2)\n",
            "Collecting fastapi (from gradio)\n",
            "  Downloading fastapi-0.109.2-py3-none-any.whl (92 kB)\n",
            "\u001b[2K     \u001b[90m━━━━━━━━━━━━━━━━━━━━━━━━━━━━━━━━━━━━━━━━\u001b[0m \u001b[32m92.1/92.1 kB\u001b[0m \u001b[31m8.6 MB/s\u001b[0m eta \u001b[36m0:00:00\u001b[0m\n",
            "\u001b[?25hCollecting ffmpy (from gradio)\n",
            "  Downloading ffmpy-0.3.2.tar.gz (5.5 kB)\n",
            "  Preparing metadata (setup.py) ... \u001b[?25l\u001b[?25hdone\n",
            "Collecting gradio-client==0.10.0 (from gradio)\n",
            "  Downloading gradio_client-0.10.0-py3-none-any.whl (307 kB)\n",
            "\u001b[2K     \u001b[90m━━━━━━━━━━━━━━━━━━━━━━━━━━━━━━━━━━━━━━━━\u001b[0m \u001b[32m307.7/307.7 kB\u001b[0m \u001b[31m22.5 MB/s\u001b[0m eta \u001b[36m0:00:00\u001b[0m\n",
            "\u001b[?25hCollecting httpx (from gradio)\n",
            "  Downloading httpx-0.26.0-py3-none-any.whl (75 kB)\n",
            "\u001b[2K     \u001b[90m━━━━━━━━━━━━━━━━━━━━━━━━━━━━━━━━━━━━━━━━\u001b[0m \u001b[32m75.9/75.9 kB\u001b[0m \u001b[31m6.3 MB/s\u001b[0m eta \u001b[36m0:00:00\u001b[0m\n",
            "\u001b[?25hRequirement already satisfied: huggingface-hub>=0.19.3 in /usr/local/lib/python3.10/dist-packages (from gradio) (0.20.3)\n",
            "Requirement already satisfied: importlib-resources<7.0,>=1.3 in /usr/local/lib/python3.10/dist-packages (from gradio) (6.1.1)\n",
            "Requirement already satisfied: jinja2<4.0 in /usr/local/lib/python3.10/dist-packages (from gradio) (3.1.3)\n",
            "Requirement already satisfied: markupsafe~=2.0 in /usr/local/lib/python3.10/dist-packages (from gradio) (2.1.5)\n",
            "Requirement already satisfied: matplotlib~=3.0 in /usr/local/lib/python3.10/dist-packages (from gradio) (3.7.1)\n",
            "Requirement already satisfied: numpy~=1.0 in /usr/local/lib/python3.10/dist-packages (from gradio) (1.23.5)\n",
            "Collecting orjson~=3.0 (from gradio)\n",
            "  Downloading orjson-3.9.13-cp310-cp310-manylinux_2_17_x86_64.manylinux2014_x86_64.whl (138 kB)\n",
            "\u001b[2K     \u001b[90m━━━━━━━━━━━━━━━━━━━━━━━━━━━━━━━━━━━━━━━━\u001b[0m \u001b[32m138.7/138.7 kB\u001b[0m \u001b[31m12.9 MB/s\u001b[0m eta \u001b[36m0:00:00\u001b[0m\n",
            "\u001b[?25hRequirement already satisfied: packaging in /usr/local/lib/python3.10/dist-packages (from gradio) (23.2)\n",
            "Requirement already satisfied: pandas<3.0,>=1.0 in /usr/local/lib/python3.10/dist-packages (from gradio) (1.5.3)\n",
            "Requirement already satisfied: pillow<11.0,>=8.0 in /usr/local/lib/python3.10/dist-packages (from gradio) (9.4.0)\n",
            "Requirement already satisfied: pydantic>=2.0 in /usr/local/lib/python3.10/dist-packages (from gradio) (2.6.1)\n",
            "Collecting pydub (from gradio)\n",
            "  Downloading pydub-0.25.1-py2.py3-none-any.whl (32 kB)\n",
            "Collecting python-multipart (from gradio)\n",
            "  Downloading python_multipart-0.0.9-py3-none-any.whl (22 kB)\n",
            "Requirement already satisfied: pyyaml<7.0,>=5.0 in /usr/local/lib/python3.10/dist-packages (from gradio) (6.0.1)\n",
            "Collecting ruff>=0.1.7 (from gradio)\n",
            "  Downloading ruff-0.2.1-py3-none-manylinux_2_17_x86_64.manylinux2014_x86_64.whl (7.6 MB)\n",
            "\u001b[2K     \u001b[90m━━━━━━━━━━━━━━━━━━━━━━━━━━━━━━━━━━━━━━━━\u001b[0m \u001b[32m7.6/7.6 MB\u001b[0m \u001b[31m46.2 MB/s\u001b[0m eta \u001b[36m0:00:00\u001b[0m\n",
            "\u001b[?25hCollecting semantic-version~=2.0 (from gradio)\n",
            "  Downloading semantic_version-2.10.0-py2.py3-none-any.whl (15 kB)\n",
            "Collecting tomlkit==0.12.0 (from gradio)\n",
            "  Downloading tomlkit-0.12.0-py3-none-any.whl (37 kB)\n",
            "Requirement already satisfied: typer[all]<1.0,>=0.9 in /usr/local/lib/python3.10/dist-packages (from gradio) (0.9.0)\n",
            "Requirement already satisfied: typing-extensions~=4.0 in /usr/local/lib/python3.10/dist-packages (from gradio) (4.9.0)\n",
            "Collecting uvicorn>=0.14.0 (from gradio)\n",
            "  Downloading uvicorn-0.27.1-py3-none-any.whl (60 kB)\n",
            "\u001b[2K     \u001b[90m━━━━━━━━━━━━━━━━━━━━━━━━━━━━━━━━━━━━━━━━\u001b[0m \u001b[32m60.8/60.8 kB\u001b[0m \u001b[31m4.7 MB/s\u001b[0m eta \u001b[36m0:00:00\u001b[0m\n",
            "\u001b[?25hRequirement already satisfied: fsspec in /usr/local/lib/python3.10/dist-packages (from gradio-client==0.10.0->gradio) (2023.6.0)\n",
            "Collecting websockets<12.0,>=10.0 (from gradio-client==0.10.0->gradio)\n",
            "  Downloading websockets-11.0.3-cp310-cp310-manylinux_2_5_x86_64.manylinux1_x86_64.manylinux_2_17_x86_64.manylinux2014_x86_64.whl (129 kB)\n",
            "\u001b[2K     \u001b[90m━━━━━━━━━━━━━━━━━━━━━━━━━━━━━━━━━━━━━━━━\u001b[0m \u001b[32m129.9/129.9 kB\u001b[0m \u001b[31m11.4 MB/s\u001b[0m eta \u001b[36m0:00:00\u001b[0m\n",
            "\u001b[?25hRequirement already satisfied: entrypoints in /usr/local/lib/python3.10/dist-packages (from altair<6.0,>=4.2.0->gradio) (0.4)\n",
            "Requirement already satisfied: jsonschema>=3.0 in /usr/local/lib/python3.10/dist-packages (from altair<6.0,>=4.2.0->gradio) (4.19.2)\n",
            "Requirement already satisfied: toolz in /usr/local/lib/python3.10/dist-packages (from altair<6.0,>=4.2.0->gradio) (0.12.1)\n",
            "Requirement already satisfied: filelock in /usr/local/lib/python3.10/dist-packages (from huggingface-hub>=0.19.3->gradio) (3.13.1)\n",
            "Requirement already satisfied: requests in /usr/local/lib/python3.10/dist-packages (from huggingface-hub>=0.19.3->gradio) (2.31.0)\n",
            "Requirement already satisfied: tqdm>=4.42.1 in /usr/local/lib/python3.10/dist-packages (from huggingface-hub>=0.19.3->gradio) (4.66.1)\n",
            "Requirement already satisfied: contourpy>=1.0.1 in /usr/local/lib/python3.10/dist-packages (from matplotlib~=3.0->gradio) (1.2.0)\n",
            "Requirement already satisfied: cycler>=0.10 in /usr/local/lib/python3.10/dist-packages (from matplotlib~=3.0->gradio) (0.12.1)\n",
            "Requirement already satisfied: fonttools>=4.22.0 in /usr/local/lib/python3.10/dist-packages (from matplotlib~=3.0->gradio) (4.48.1)\n",
            "Requirement already satisfied: kiwisolver>=1.0.1 in /usr/local/lib/python3.10/dist-packages (from matplotlib~=3.0->gradio) (1.4.5)\n",
            "Requirement already satisfied: pyparsing>=2.3.1 in /usr/local/lib/python3.10/dist-packages (from matplotlib~=3.0->gradio) (3.1.1)\n",
            "Requirement already satisfied: python-dateutil>=2.7 in /usr/local/lib/python3.10/dist-packages (from matplotlib~=3.0->gradio) (2.8.2)\n",
            "Requirement already satisfied: pytz>=2020.1 in /usr/local/lib/python3.10/dist-packages (from pandas<3.0,>=1.0->gradio) (2023.4)\n",
            "Requirement already satisfied: annotated-types>=0.4.0 in /usr/local/lib/python3.10/dist-packages (from pydantic>=2.0->gradio) (0.6.0)\n",
            "Requirement already satisfied: pydantic-core==2.16.2 in /usr/local/lib/python3.10/dist-packages (from pydantic>=2.0->gradio) (2.16.2)\n",
            "Requirement already satisfied: click<9.0.0,>=7.1.1 in /usr/local/lib/python3.10/dist-packages (from typer[all]<1.0,>=0.9->gradio) (8.1.7)\n",
            "Collecting colorama<0.5.0,>=0.4.3 (from typer[all]<1.0,>=0.9->gradio)\n",
            "  Downloading colorama-0.4.6-py2.py3-none-any.whl (25 kB)\n",
            "Collecting shellingham<2.0.0,>=1.3.0 (from typer[all]<1.0,>=0.9->gradio)\n",
            "  Downloading shellingham-1.5.4-py2.py3-none-any.whl (9.8 kB)\n",
            "Requirement already satisfied: rich<14.0.0,>=10.11.0 in /usr/local/lib/python3.10/dist-packages (from typer[all]<1.0,>=0.9->gradio) (13.7.0)\n",
            "Collecting h11>=0.8 (from uvicorn>=0.14.0->gradio)\n",
            "  Downloading h11-0.14.0-py3-none-any.whl (58 kB)\n",
            "\u001b[2K     \u001b[90m━━━━━━━━━━━━━━━━━━━━━━━━━━━━━━━━━━━━━━━━\u001b[0m \u001b[32m58.3/58.3 kB\u001b[0m \u001b[31m5.4 MB/s\u001b[0m eta \u001b[36m0:00:00\u001b[0m\n",
            "\u001b[?25hCollecting starlette<0.37.0,>=0.36.3 (from fastapi->gradio)\n",
            "  Downloading starlette-0.36.3-py3-none-any.whl (71 kB)\n",
            "\u001b[2K     \u001b[90m━━━━━━━━━━━━━━━━━━━━━━━━━━━━━━━━━━━━━━━━\u001b[0m \u001b[32m71.5/71.5 kB\u001b[0m \u001b[31m5.6 MB/s\u001b[0m eta \u001b[36m0:00:00\u001b[0m\n",
            "\u001b[?25hRequirement already satisfied: anyio in /usr/local/lib/python3.10/dist-packages (from httpx->gradio) (3.7.1)\n",
            "Requirement already satisfied: certifi in /usr/local/lib/python3.10/dist-packages (from httpx->gradio) (2024.2.2)\n",
            "Collecting httpcore==1.* (from httpx->gradio)\n",
            "  Downloading httpcore-1.0.2-py3-none-any.whl (76 kB)\n",
            "\u001b[2K     \u001b[90m━━━━━━━━━━━━━━━━━━━━━━━━━━━━━━━━━━━━━━━━\u001b[0m \u001b[32m76.9/76.9 kB\u001b[0m \u001b[31m8.6 MB/s\u001b[0m eta \u001b[36m0:00:00\u001b[0m\n",
            "\u001b[?25hRequirement already satisfied: idna in /usr/local/lib/python3.10/dist-packages (from httpx->gradio) (3.6)\n",
            "Requirement already satisfied: sniffio in /usr/local/lib/python3.10/dist-packages (from httpx->gradio) (1.3.0)\n",
            "Requirement already satisfied: attrs>=22.2.0 in /usr/local/lib/python3.10/dist-packages (from jsonschema>=3.0->altair<6.0,>=4.2.0->gradio) (23.2.0)\n",
            "Requirement already satisfied: jsonschema-specifications>=2023.03.6 in /usr/local/lib/python3.10/dist-packages (from jsonschema>=3.0->altair<6.0,>=4.2.0->gradio) (2023.12.1)\n",
            "Requirement already satisfied: referencing>=0.28.4 in /usr/local/lib/python3.10/dist-packages (from jsonschema>=3.0->altair<6.0,>=4.2.0->gradio) (0.33.0)\n",
            "Requirement already satisfied: rpds-py>=0.7.1 in /usr/local/lib/python3.10/dist-packages (from jsonschema>=3.0->altair<6.0,>=4.2.0->gradio) (0.17.1)\n",
            "Requirement already satisfied: six>=1.5 in /usr/local/lib/python3.10/dist-packages (from python-dateutil>=2.7->matplotlib~=3.0->gradio) (1.16.0)\n",
            "Requirement already satisfied: markdown-it-py>=2.2.0 in /usr/local/lib/python3.10/dist-packages (from rich<14.0.0,>=10.11.0->typer[all]<1.0,>=0.9->gradio) (3.0.0)\n",
            "Requirement already satisfied: pygments<3.0.0,>=2.13.0 in /usr/local/lib/python3.10/dist-packages (from rich<14.0.0,>=10.11.0->typer[all]<1.0,>=0.9->gradio) (2.16.1)\n",
            "Requirement already satisfied: exceptiongroup in /usr/local/lib/python3.10/dist-packages (from anyio->httpx->gradio) (1.2.0)\n",
            "Requirement already satisfied: charset-normalizer<4,>=2 in /usr/local/lib/python3.10/dist-packages (from requests->huggingface-hub>=0.19.3->gradio) (3.3.2)\n",
            "Requirement already satisfied: urllib3<3,>=1.21.1 in /usr/local/lib/python3.10/dist-packages (from requests->huggingface-hub>=0.19.3->gradio) (2.0.7)\n",
            "Requirement already satisfied: mdurl~=0.1 in /usr/local/lib/python3.10/dist-packages (from markdown-it-py>=2.2.0->rich<14.0.0,>=10.11.0->typer[all]<1.0,>=0.9->gradio) (0.1.2)\n",
            "Building wheels for collected packages: ffmpy\n",
            "  Building wheel for ffmpy (setup.py) ... \u001b[?25l\u001b[?25hdone\n",
            "  Created wheel for ffmpy: filename=ffmpy-0.3.2-py3-none-any.whl size=5584 sha256=0ff5a3f465044bfc0fd297a47446a501e189d908a317407b757e45c92d2148c8\n",
            "  Stored in directory: /root/.cache/pip/wheels/bd/65/9a/671fc6dcde07d4418df0c592f8df512b26d7a0029c2a23dd81\n",
            "Successfully built ffmpy\n",
            "Installing collected packages: pydub, ffmpy, websockets, tomlkit, shellingham, semantic-version, ruff, python-multipart, orjson, h11, colorama, aiofiles, uvicorn, starlette, httpcore, httpx, fastapi, gradio-client, gradio\n",
            "Successfully installed aiofiles-23.2.1 colorama-0.4.6 fastapi-0.109.2 ffmpy-0.3.2 gradio-4.18.0 gradio-client-0.10.0 h11-0.14.0 httpcore-1.0.2 httpx-0.26.0 orjson-3.9.13 pydub-0.25.1 python-multipart-0.0.9 ruff-0.2.1 semantic-version-2.10.0 shellingham-1.5.4 starlette-0.36.3 tomlkit-0.12.0 uvicorn-0.27.1 websockets-11.0.3\n"
          ]
        }
      ]
    },
    {
      "cell_type": "code",
      "source": [
        "import requests\n",
        "import json\n",
        "import gradio as gr\n",
        "\n",
        "def moedict(word):\n",
        "  reStr = ''\n",
        "  url = 'https://www.moedict.tw/uni/' + word\n",
        "  r = requests.get(url)\n",
        "  datas = json.loads(r.text)\n",
        "\n",
        "  reStr += '【'+ datas['title'] + '】\\n'\n",
        "  if 'radical' in (datas['heteronyms']):\n",
        "    reStr += '部首：{}，筆畫：{}'.format(datas['radical'], datas['stroke_count']) + '\\n'\n",
        "  for i in range(len(datas['heteronyms'])):\n",
        "    reStr += '注音：{}，羅馬拼音：{}，漢語拼音：{}'.format(\n",
        "        datas['heteronyms'][i]['bopomofo'].replace('（語音）',''),\n",
        "        datas['heteronyms'][i]['bopomofo2'].replace('（語音）',''),\n",
        "        datas['heteronyms'][i]['pinyin'].replace('（語音）','')) + '\\n'\n",
        "    reStr += '----------------------------------------\\n'\n",
        "    for j in range(len(datas['heteronyms'][i]['definitions'])):\n",
        "      reStr += '解釋：{}'.format(datas['heteronyms'][i]['definitions'][j]['def']) + '\\n'\n",
        "      if 'quote' in (datas['heteronyms'][i]['definitions'][j]):\n",
        "        reStr += '引用：{}'.format(' | '.join(datas['heteronyms'][i]['definitions'][j]['quote'])) + '\\n'\n",
        "      if 'example' in (datas['heteronyms'][i]['definitions'][j]):\n",
        "        reStr += '範例：{}'.format(' | '.join(datas['heteronyms'][i]['definitions'][j]['example'])) + '\\n'\n",
        "      if 'link' in (datas['heteronyms'][i]['definitions'][j]):\n",
        "        reStr += '連結：{}'.format(' | '.join(datas['heteronyms'][i]['definitions'][j]['link'])) + '\\n'\n",
        "      if 'type' in (datas['heteronyms'][i]['definitions'][j]):\n",
        "        reStr += '詞性：<{}詞>'.format(datas['heteronyms'][i]['definitions'][j]['type']) + '\\n'\n",
        "      if j < len(datas['heteronyms'][i]['definitions'])-1:\n",
        "        reStr += '----------------------------------------\\n'\n",
        "    if i < len(datas['heteronyms'])-1:\n",
        "      reStr += '========================================\\n'\n",
        "  return reStr\n",
        "\n",
        "grobj = gr.Interface(fn=moedict,\n",
        "             inputs=gr.Textbox(),\n",
        "             outputs=gr.Textbox())\n",
        "grobj.launch()"
      ],
      "metadata": {
        "colab": {
          "base_uri": "https://localhost:8080/",
          "height": 646
        },
        "id": "MN4PEtK-FawI",
        "outputId": "9a16169b-cee6-4b0a-ddea-3918a613a59a"
      },
      "execution_count": null,
      "outputs": [
        {
          "output_type": "stream",
          "name": "stdout",
          "text": [
            "Setting queue=True in a Colab notebook requires sharing enabled. Setting `share=True` (you can turn this off by setting `share=False` in `launch()` explicitly).\n",
            "\n",
            "Colab notebook detected. To show errors in colab notebook, set debug=True in launch()\n",
            "Running on public URL: https://e3474709892688fff4.gradio.live\n",
            "\n",
            "This share link expires in 72 hours. For free permanent hosting and GPU upgrades, run `gradio deploy` from Terminal to deploy to Spaces (https://huggingface.co/spaces)\n"
          ]
        },
        {
          "output_type": "display_data",
          "data": {
            "text/plain": [
              "<IPython.core.display.HTML object>"
            ],
            "text/html": [
              "<div><iframe src=\"https://e3474709892688fff4.gradio.live\" width=\"100%\" height=\"500\" allow=\"autoplay; camera; microphone; clipboard-read; clipboard-write;\" frameborder=\"0\" allowfullscreen></iframe></div>"
            ]
          },
          "metadata": {}
        },
        {
          "output_type": "execute_result",
          "data": {
            "text/plain": []
          },
          "metadata": {},
          "execution_count": 10
        }
      ]
    }
  ]
}