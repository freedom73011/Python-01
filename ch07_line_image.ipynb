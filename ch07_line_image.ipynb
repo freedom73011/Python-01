{
  "nbformat": 4,
  "nbformat_minor": 0,
  "metadata": {
    "colab": {
      "provenance": [],
      "include_colab_link": true
    },
    "kernelspec": {
      "name": "python3",
      "display_name": "Python 3"
    },
    "language_info": {
      "name": "python"
    }
  },
  "cells": [
    {
      "cell_type": "markdown",
      "metadata": {
        "id": "view-in-github",
        "colab_type": "text"
      },
      "source": [
        "<a href=\"https://colab.research.google.com/github/freedom73011/Python-01/blob/main/ch07_line_image.ipynb\" target=\"_parent\"><img src=\"https://colab.research.google.com/assets/colab-badge.svg\" alt=\"Open In Colab\"/></a>"
      ]
    },
    {
      "cell_type": "code",
      "source": [
        "import requests,os,json\n",
        "from bs4 import BeautifulSoup"
      ],
      "metadata": {
        "id": "YAXF4GlJ5iB_"
      },
      "execution_count": null,
      "outputs": []
    },
    {
      "cell_type": "code",
      "source": [
        "# 設定url儲存貼圖網址，向該網站提出get請求，並傳回結果\n",
        "url = 'https://store.line.me/stickershop/product/10571593/zh-Hant'\n",
        "html = requests.get(url)"
      ],
      "metadata": {
        "id": "bI-nRQX_7qVb"
      },
      "execution_count": null,
      "outputs": []
    },
    {
      "cell_type": "code",
      "source": [
        "soup = BeautifulSoup(html.text,'html.parser')"
      ],
      "metadata": {
        "id": "zGcR1g-R73lH"
      },
      "execution_count": null,
      "outputs": []
    },
    {
      "cell_type": "code",
      "source": [
        "# 建立目錄儲存圖片\n",
        "images_dir= \"line_image/\" # 存 Colab 本機\n",
        "if not os.path.exists(images_dir):\n",
        "    os.mkdir(images_dir)"
      ],
      "metadata": {
        "id": "li90ZYv378fO"
      },
      "execution_count": null,
      "outputs": []
    },
    {
      "cell_type": "code",
      "source": [
        "datas = soup.find_all('li', {'class':'mdCMN09Li FnStickerPreviewItem static-sticker'})\n",
        "for data in datas:\n",
        "    # 將字串資料轉換為字典\n",
        "    imginfo = json.loads(data.get('data-preview'))\n",
        "    id=imginfo['id']\n",
        "    imgfile = requests.get(imginfo['staticUrl']) #載入圖片\n",
        "\n",
        "    full_path = os.path.join(images_dir,id) #儲存的路徑和主檔名\n",
        "    # 儲存圖片\n",
        "    with open(full_path + '.png', 'wb') as f:\n",
        "        f.write(imgfile.content)\n",
        "    print(full_path + '.png') #顯示儲存的路徑和檔名"
      ],
      "metadata": {
        "id": "O5IDpOKd8Dhd"
      },
      "execution_count": null,
      "outputs": []
    },
    {
      "cell_type": "code",
      "source": [
        "!zip line_image line_image/*"
      ],
      "metadata": {
        "id": "9FjODVG-BoUd"
      },
      "execution_count": null,
      "outputs": []
    },
    {
      "cell_type": "code",
      "source": [
        "!rm -f -r line_image"
      ],
      "metadata": {
        "id": "8UmewuUaCQNO"
      },
      "execution_count": null,
      "outputs": []
    },
    {
      "cell_type": "markdown",
      "source": [
        "完整程式碼"
      ],
      "metadata": {
        "id": "hn_kIUhND9Oo"
      }
    },
    {
      "cell_type": "code",
      "source": [
        "import requests,os,json\n",
        "from bs4 import BeautifulSoup\n",
        "\n",
        "url = 'https://store.line.me/stickershop/product/10571593/zh-Hant'\n",
        "html = requests.get(url)\n",
        "soup = BeautifulSoup(html.text,'html.parser')\n",
        "\n",
        "# 建立目錄儲存圖片\n",
        "images_dir= \"line_image/\"\n",
        "if not os.path.exists(images_dir):\n",
        "    os.mkdir(images_dir)\n",
        "\n",
        "# 下載貼圖\n",
        "datas = soup.find_all('li', {'class':'mdCMN09Li FnStickerPreviewItem static-sticker'})\n",
        "for data in datas:\n",
        "    # 將字串資料轉換為字典\n",
        "    imginfo = json.loads(data.get('data-preview'))\n",
        "    id=imginfo['id']\n",
        "    imgfile = requests.get(imginfo['staticUrl']) #載入圖片\n",
        "\n",
        "    full_path = os.path.join(images_dir,id) #儲存的路徑和主檔名\n",
        "    # 儲存圖片\n",
        "    with open(full_path + '.png', 'wb') as f:\n",
        "        f.write(imgfile.content)\n",
        "    print(full_path + '.png') #顯示儲存的路徑和檔名"
      ],
      "metadata": {
        "id": "eSoPEZJuEBIW"
      },
      "execution_count": null,
      "outputs": []
    }
  ]
}