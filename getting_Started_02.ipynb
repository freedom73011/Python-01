{
  "nbformat": 4,
  "nbformat_minor": 0,
  "metadata": {
    "colab": {
      "provenance": [],
      "authorship_tag": "ABX9TyO+CBJGbBcJeAoU9yKmSyiP",
      "include_colab_link": true
    },
    "kernelspec": {
      "name": "python3",
      "display_name": "Python 3"
    },
    "language_info": {
      "name": "python"
    }
  },
  "cells": [
    {
      "cell_type": "markdown",
      "metadata": {
        "id": "view-in-github",
        "colab_type": "text"
      },
      "source": [
        "<a href=\"https://colab.research.google.com/github/freedom73011/Python-01/blob/main/getting_Started_02.ipynb\" target=\"_parent\"><img src=\"https://colab.research.google.com/assets/colab-badge.svg\" alt=\"Open In Colab\"/></a>"
      ]
    },
    {
      "cell_type": "markdown",
      "source": [
        "## 3-3將多個處理功能打包起來\n",
        "##函式(function)\n",
        "###使用函式的理由是為了要重複使用同一段程式\n",
        "###語法\n",
        "###def 函式名稱():\n",
        "###tab>       處理 1\n",
        "###tab>       處理 2"
      ],
      "metadata": {
        "id": "EsC48LeXtQRk"
      }
    },
    {
      "cell_type": "markdown",
      "source": [
        "###注意事項:\n",
        "1.   def 後面要空一格，後面接想幫函式取的名稱(名稱不能是python保留字)\n",
        "2.   ()裡面可以留空，也可以放參數。\n",
        "\n",
        "1.   最後不要忘了輸入半形的冒號     :\n",
        "2.   def底下縮排的部分就是程式區塊，左邊記得要縮排，程式區塊可以依需求增加更多程式\n",
        "\n",
        "\n",
        "\n",
        "\n",
        "\n",
        "\n",
        "\n",
        "\n",
        "\n",
        "\n"
      ],
      "metadata": {
        "id": "oKmjoGcBDrTf"
      }
    },
    {
      "cell_type": "markdown",
      "source": [
        "##定義自己的函式\n",
        "###洗衣機做了哪些事?"
      ],
      "metadata": {
        "id": "w3pB7DyRCjAZ"
      }
    },
    {
      "cell_type": "code",
      "execution_count": null,
      "metadata": {
        "id": "pFk8b2RLtC1b"
      },
      "outputs": [],
      "source": [
        "def washingMachine():\n",
        "\tprint('注水')\n",
        "\tprint('清洗')\n",
        "\tprint('清掉洗衣劑')\n",
        "\tprint('脫水')\n",
        "\tprint('烘乾')"
      ]
    },
    {
      "cell_type": "markdown",
      "source": [
        "### 定義完函式後，輸入函式名稱加上()再執行就可以了"
      ],
      "metadata": {
        "id": "ULUqW8IPGIl1"
      }
    },
    {
      "cell_type": "code",
      "source": [
        "washingMachine()"
      ],
      "metadata": {
        "colab": {
          "base_uri": "https://localhost:8080/"
        },
        "id": "q-iqPQZWGDkI",
        "outputId": "6f89afb4-deb8-4bd8-f329-a86d40eb97e4"
      },
      "execution_count": null,
      "outputs": [
        {
          "output_type": "stream",
          "name": "stdout",
          "text": [
            "注水\n",
            "清洗\n",
            "清掉洗衣劑\n",
            "脫水\n",
            "烘乾\n"
          ]
        }
      ]
    },
    {
      "cell_type": "markdown",
      "source": [
        "### 利用if判斷式撰寫不同的處理方式\n",
        "###模擬一般、輕柔、強力3種洗衣模式"
      ],
      "metadata": {
        "id": "rUQdHVQo21VY"
      }
    },
    {
      "cell_type": "code",
      "source": [
        "mode = 'soft'                #將'soft'字串指派給mode變數\n",
        "if (mode == 'soft'):         #撰寫if...elif...else判斷式\n",
        "\tprint('輕柔清洗')\n",
        "elif (mode == 'hard'):\n",
        "\tprint('強力清洗')\n",
        "else:\n",
        "\tprint('一般清洗')"
      ],
      "metadata": {
        "id": "AA9uKJoKG0g_"
      },
      "execution_count": null,
      "outputs": []
    },
    {
      "cell_type": "markdown",
      "source": [
        "###把if 判斷式放入函式內"
      ],
      "metadata": {
        "id": "Z2hgQdU64yMx"
      }
    },
    {
      "cell_type": "code",
      "source": [
        "def washingMachine(mode):      #定義這函式有一個名為mode的參數，表示之後函式被呼叫時，在函式內部會將傳遞過來的參數值綁給mode變數\n",
        "\tprint('注水')\n",
        "\tif (mode == 'soft'):\n",
        "\t\tprint('輕柔清洗')\n",
        "\telif (mode == 'hard'):\n",
        "\t\tprint('強力清洗')\n",
        "\telse:\n",
        "\t\tprint('一般清洗')\n",
        "\tprint('清掉洗衣劑')\n",
        "\tprint('脫水')\n",
        "\tprint('烘乾')"
      ],
      "metadata": {
        "id": "IuHg6B0UG3zH"
      },
      "execution_count": 1,
      "outputs": []
    },
    {
      "cell_type": "markdown",
      "source": [
        "### 呼叫時加參數的寫法像底下這樣"
      ],
      "metadata": {
        "id": "UmzMYDLX6u1T"
      }
    },
    {
      "cell_type": "code",
      "source": [
        "washingMachine('soft')"
      ],
      "metadata": {
        "id": "284Wt8YdHCOn"
      },
      "execution_count": null,
      "outputs": []
    },
    {
      "cell_type": "code",
      "source": [
        "washingMachine('hard')"
      ],
      "metadata": {
        "id": "geR34UKuHGkO"
      },
      "execution_count": null,
      "outputs": []
    },
    {
      "cell_type": "markdown",
      "source": [
        "### 用return讓函式回傳資料\n",
        "###計算圓形面積的函式"
      ],
      "metadata": {
        "id": "8HwTU0zL7N_u"
      }
    },
    {
      "cell_type": "code",
      "source": [
        "def area(radius):\n",
        "\tresult = radius * radius * 3.14\n",
        "\treturn result"
      ],
      "metadata": {
        "id": "G3T9GVZFHfd3"
      },
      "execution_count": null,
      "outputs": []
    },
    {
      "cell_type": "code",
      "source": [
        "area(5)"
      ],
      "metadata": {
        "id": "_BJgg2cCHhy3"
      },
      "execution_count": null,
      "outputs": []
    },
    {
      "cell_type": "code",
      "source": [
        "small = area(5)\n",
        "big = area(10)\n",
        "print(small)\n",
        "print(big)"
      ],
      "metadata": {
        "id": "xnS9eyL-Hiil"
      },
      "execution_count": null,
      "outputs": []
    },
    {
      "cell_type": "code",
      "source": [
        "len('thunderbolt')"
      ],
      "metadata": {
        "id": "rqMwuwPrHk53"
      },
      "execution_count": null,
      "outputs": []
    },
    {
      "cell_type": "code",
      "source": [
        "animal = ['cat','dog','duck']\n",
        "len(animal)"
      ],
      "metadata": {
        "id": "WL6eGLhsH_7r"
      },
      "execution_count": null,
      "outputs": []
    },
    {
      "cell_type": "code",
      "source": [
        "max(100,10,50)"
      ],
      "metadata": {
        "id": "96keP5vMIBqA"
      },
      "execution_count": null,
      "outputs": []
    },
    {
      "cell_type": "code",
      "source": [
        "min(300,30,3000)"
      ],
      "metadata": {
        "id": "2tKcdQ-1IDW_"
      },
      "execution_count": null,
      "outputs": []
    },
    {
      "cell_type": "markdown",
      "source": [
        "##3-4標準函式"
      ],
      "metadata": {
        "id": "DUKpVD80IWHW"
      }
    }
  ]
}