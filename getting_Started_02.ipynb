{
  "nbformat": 4,
  "nbformat_minor": 0,
  "metadata": {
    "colab": {
      "provenance": [],
      "authorship_tag": "ABX9TyOWxdaykt7oWsW0pmYJhgek",
      "include_colab_link": true
    },
    "kernelspec": {
      "name": "python3",
      "display_name": "Python 3"
    },
    "language_info": {
      "name": "python"
    }
  },
  "cells": [
    {
      "cell_type": "markdown",
      "metadata": {
        "id": "view-in-github",
        "colab_type": "text"
      },
      "source": [
        "<a href=\"https://colab.research.google.com/github/freedom73011/Python-01/blob/main/getting_Started_02.ipynb\" target=\"_parent\"><img src=\"https://colab.research.google.com/assets/colab-badge.svg\" alt=\"Open In Colab\"/></a>"
      ]
    },
    {
      "cell_type": "markdown",
      "source": [
        "## 3-3將多個處理功能打包起來\n",
        "##函式(function)\n",
        "###使用函式的理由是為了要重複使用同一段程式\n",
        "###語法\n",
        "###def 函式名稱():\n",
        "###tab>       處理 1\n",
        "###tab>       處理 2"
      ],
      "metadata": {
        "id": "EsC48LeXtQRk"
      }
    },
    {
      "cell_type": "markdown",
      "source": [
        "###注意事項:\n",
        "1.   def 後面要空一格，後面接想幫函式取的名稱(名稱不能是python保留字)\n",
        "2.   ()裡面可以留空，也可以放參數。\n",
        "\n",
        "1.   最後不要忘了輸入半形的冒號     :\n",
        "2.   def底下縮排的部分就是程式區塊，左邊記得要縮排，程式區塊可以依需求增加更多程式\n",
        "\n",
        "\n",
        "\n",
        "\n",
        "\n",
        "\n",
        "\n",
        "\n",
        "\n",
        "\n"
      ],
      "metadata": {
        "id": "oKmjoGcBDrTf"
      }
    },
    {
      "cell_type": "markdown",
      "source": [
        "##定義自己的函式\n",
        "###洗衣機做了哪些事?"
      ],
      "metadata": {
        "id": "w3pB7DyRCjAZ"
      }
    },
    {
      "cell_type": "code",
      "execution_count": null,
      "metadata": {
        "id": "pFk8b2RLtC1b"
      },
      "outputs": [],
      "source": [
        "def washingMachine():\n",
        "\tprint('注水')\n",
        "\tprint('清洗')\n",
        "\tprint('清掉洗衣劑')\n",
        "\tprint('脫水')\n",
        "\tprint('烘乾')"
      ]
    },
    {
      "cell_type": "markdown",
      "source": [
        "### 定義完函式後，輸入函式名稱加上()再執行就可以了"
      ],
      "metadata": {
        "id": "ULUqW8IPGIl1"
      }
    },
    {
      "cell_type": "code",
      "source": [
        "washingMachine()"
      ],
      "metadata": {
        "colab": {
          "base_uri": "https://localhost:8080/"
        },
        "id": "q-iqPQZWGDkI",
        "outputId": "6f89afb4-deb8-4bd8-f329-a86d40eb97e4"
      },
      "execution_count": null,
      "outputs": [
        {
          "output_type": "stream",
          "name": "stdout",
          "text": [
            "注水\n",
            "清洗\n",
            "清掉洗衣劑\n",
            "脫水\n",
            "烘乾\n"
          ]
        }
      ]
    },
    {
      "cell_type": "markdown",
      "source": [
        "### 利用if判斷式撰寫不同的處理方式\n",
        "###模擬一般、輕柔、強力3種洗衣模式"
      ],
      "metadata": {
        "id": "rUQdHVQo21VY"
      }
    },
    {
      "cell_type": "code",
      "source": [
        "mode = 'soft'                #將'soft'字串指派給mode變數\n",
        "if (mode == 'soft'):         #撰寫if...elif...else判斷式\n",
        "\tprint('輕柔清洗')\n",
        "elif (mode == 'hard'):\n",
        "\tprint('強力清洗')\n",
        "else:\n",
        "\tprint('一般清洗')"
      ],
      "metadata": {
        "id": "AA9uKJoKG0g_"
      },
      "execution_count": null,
      "outputs": []
    },
    {
      "cell_type": "markdown",
      "source": [
        "###把if 判斷式放入函式內"
      ],
      "metadata": {
        "id": "Z2hgQdU64yMx"
      }
    },
    {
      "cell_type": "code",
      "source": [
        "def washingMachine(mode):      #定義這函式有一個名為mode的參數，表示之後函式被呼叫時，在函式內部會將傳遞過來的參數值綁給mode變數\n",
        "\tprint('注水')\n",
        "\tif (mode == 'soft'):\n",
        "\t\tprint('輕柔清洗')\n",
        "\telif (mode == 'hard'):\n",
        "\t\tprint('強力清洗')\n",
        "\telse:\n",
        "\t\tprint('一般清洗')\n",
        "\tprint('清掉洗衣劑')\n",
        "\tprint('脫水')\n",
        "\tprint('烘乾')"
      ],
      "metadata": {
        "id": "IuHg6B0UG3zH"
      },
      "execution_count": null,
      "outputs": []
    },
    {
      "cell_type": "markdown",
      "source": [
        "### 呼叫時加參數的寫法像底下這樣"
      ],
      "metadata": {
        "id": "UmzMYDLX6u1T"
      }
    },
    {
      "cell_type": "code",
      "source": [
        "washingMachine('soft')"
      ],
      "metadata": {
        "id": "284Wt8YdHCOn"
      },
      "execution_count": null,
      "outputs": []
    },
    {
      "cell_type": "code",
      "source": [
        "washingMachine('hard')"
      ],
      "metadata": {
        "id": "geR34UKuHGkO"
      },
      "execution_count": null,
      "outputs": []
    },
    {
      "cell_type": "markdown",
      "source": [
        "### 用return讓函式回傳資料\n",
        "###計算圓形面積的函式"
      ],
      "metadata": {
        "id": "8HwTU0zL7N_u"
      }
    },
    {
      "cell_type": "code",
      "source": [
        "def area(radius):                    #將函式明成定為area，可以傳入一個radius(半徑)參數\n",
        "\tresult = radius * radius * 3.14  #做圓面積計算\n",
        "\treturn result                    #用return傳回計算完的結果(即result變數)"
      ],
      "metadata": {
        "id": "G3T9GVZFHfd3"
      },
      "execution_count": null,
      "outputs": []
    },
    {
      "cell_type": "code",
      "source": [
        "area(5)   #呼叫函式，並輸入參數5"
      ],
      "metadata": {
        "id": "_BJgg2cCHhy3",
        "colab": {
          "base_uri": "https://localhost:8080/"
        },
        "outputId": "2909d418-e008-49c4-95df-93a47bf3f29c"
      },
      "execution_count": null,
      "outputs": [
        {
          "output_type": "execute_result",
          "data": {
            "text/plain": [
              "78.5"
            ]
          },
          "metadata": {},
          "execution_count": 2
        }
      ]
    },
    {
      "cell_type": "markdown",
      "source": [
        "###跟變數綁定"
      ],
      "metadata": {
        "id": "2eS2XgZxTXnx"
      }
    },
    {
      "cell_type": "code",
      "source": [
        "small = area(5)   #半徑5的小圓面積指派給small\n",
        "big = area(10)    #半徑10的小圓面積指派給big\n",
        "print(small)      #分別將兩變數綁定的質印出來\n",
        "print(big)"
      ],
      "metadata": {
        "id": "xnS9eyL-Hiil",
        "colab": {
          "base_uri": "https://localhost:8080/"
        },
        "outputId": "3b269d1f-8333-4ebc-f86f-70a677178192"
      },
      "execution_count": null,
      "outputs": [
        {
          "output_type": "stream",
          "name": "stdout",
          "text": [
            "78.5\n",
            "314.0\n"
          ]
        }
      ]
    },
    {
      "cell_type": "markdown",
      "source": [
        "### 計算字串字數的函式"
      ],
      "metadata": {
        "id": "ixhV6tgeUB3U"
      }
    },
    {
      "cell_type": "code",
      "source": [
        "len('thunderbolt')"
      ],
      "metadata": {
        "id": "rqMwuwPrHk53"
      },
      "execution_count": null,
      "outputs": []
    },
    {
      "cell_type": "markdown",
      "source": [
        "### 計算串列的元素數量"
      ],
      "metadata": {
        "id": "rPV243CyUbQK"
      }
    },
    {
      "cell_type": "code",
      "source": [
        "animal = ['cat','dog','duck']\n",
        "len(animal)"
      ],
      "metadata": {
        "id": "WL6eGLhsH_7r"
      },
      "execution_count": null,
      "outputs": []
    },
    {
      "cell_type": "markdown",
      "source": [
        "### 取最大值"
      ],
      "metadata": {
        "id": "l-pHZTcqUjzD"
      }
    },
    {
      "cell_type": "code",
      "source": [
        "max(100,10,50)"
      ],
      "metadata": {
        "id": "96keP5vMIBqA"
      },
      "execution_count": null,
      "outputs": []
    },
    {
      "cell_type": "markdown",
      "source": [
        "### 取最小值"
      ],
      "metadata": {
        "id": "cJZe0kdxUnGl"
      }
    },
    {
      "cell_type": "code",
      "source": [
        "min(300,30,3000)"
      ],
      "metadata": {
        "id": "2tKcdQ-1IDW_"
      },
      "execution_count": null,
      "outputs": []
    },
    {
      "cell_type": "markdown",
      "source": [
        "##3-4標準函式庫\n",
        "###指的是安裝python時就已安裝好的模組或套件，其內容相當龐大，在使用前必須先import到程式中才能使用，例如之前介紹過的calendar就是內建模組。\n",
        "###相對應的則是外部(非官方)的第三方套件，這就必須另外安裝才能使用。"
      ],
      "metadata": {
        "id": "DUKpVD80IWHW"
      }
    },
    {
      "cell_type": "markdown",
      "source": [
        "## import\n",
        "###要在python中使用模組，只要使用import關鍵字匯入模組名稱即可"
      ],
      "metadata": {
        "id": "EjDZVOaw9W8v"
      }
    },
    {
      "cell_type": "code",
      "source": [
        "import calendar                  #匯入calendar模組\n",
        "print(calendar.month(2024, 4))   #顯示2024年4月的月曆"
      ],
      "metadata": {
        "colab": {
          "base_uri": "https://localhost:8080/"
        },
        "id": "i_x9O07L-JfW",
        "outputId": "a1cfde55-f5f7-487a-af83-933001a33e3a"
      },
      "execution_count": 2,
      "outputs": [
        {
          "output_type": "stream",
          "name": "stdout",
          "text": [
            "     April 2024\n",
            "Mo Tu We Th Fr Sa Su\n",
            " 1  2  3  4  5  6  7\n",
            " 8  9 10 11 12 13 14\n",
            "15 16 17 18 19 20 21\n",
            "22 23 24 25 26 27 28\n",
            "29 30\n",
            "\n"
          ]
        }
      ]
    },
    {
      "cell_type": "code",
      "source": [
        "import calendar as cal\n",
        "print(cal.month(2022, 8))"
      ],
      "metadata": {
        "id": "QZAqT7SF-rFQ"
      },
      "execution_count": null,
      "outputs": []
    },
    {
      "cell_type": "code",
      "source": [
        "from calendar import month, isleap\n",
        "print(month(2022, 9))"
      ],
      "metadata": {
        "id": "tuLe5-5V-tsf"
      },
      "execution_count": null,
      "outputs": []
    },
    {
      "cell_type": "code",
      "source": [
        "isleap(2024)"
      ],
      "metadata": {
        "id": "GFPsVhtm-vsQ"
      },
      "execution_count": null,
      "outputs": []
    },
    {
      "cell_type": "code",
      "source": [
        "import calendar\n",
        "calendar.isleap(2022)"
      ],
      "metadata": {
        "id": "Y2mZYPZa-xIj"
      },
      "execution_count": null,
      "outputs": []
    },
    {
      "cell_type": "code",
      "source": [
        "from calendar import isleap\n",
        "isleap(2022)"
      ],
      "metadata": {
        "id": "-xoziLGa-zCT"
      },
      "execution_count": null,
      "outputs": []
    }
  ]
}