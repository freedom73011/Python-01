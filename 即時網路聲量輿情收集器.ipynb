{
  "nbformat": 4,
  "nbformat_minor": 0,
  "metadata": {
    "colab": {
      "provenance": [],
      "include_colab_link": true
    },
    "kernelspec": {
      "name": "python3",
      "display_name": "Python 3"
    },
    "language_info": {
      "name": "python"
    }
  },
  "cells": [
    {
      "cell_type": "markdown",
      "metadata": {
        "id": "view-in-github",
        "colab_type": "text"
      },
      "source": [
        "<a href=\"https://colab.research.google.com/github/freedom73011/Python-01/blob/main/%E5%8D%B3%E6%99%82%E7%B6%B2%E8%B7%AF%E8%81%B2%E9%87%8F%E8%BC%BF%E6%83%85%E6%94%B6%E9%9B%86%E5%99%A8.ipynb\" target=\"_parent\"><img src=\"https://colab.research.google.com/assets/colab-badge.svg\" alt=\"Open In Colab\"/></a>"
      ]
    },
    {
      "cell_type": "code",
      "source": [
        "import requests,json\n",
        "\n",
        "# 官網 https://trends.google.com/trends/trendingsearches/daily?geo=TW\n",
        "# Google熱搜關鍵字，預設會取得最近兩天的關鍵字\n",
        "url = 'https://trends.google.com/trends/api/dailytrends'\n",
        "\n",
        "# 以 payload 設定 params，ed 可以設定日期\n",
        "payload = {\n",
        "            \"hl\": \"zh-TW\",\n",
        "            \"tz\": \"-480\",\n",
        "            # 如果要指定日期可以加上 ed 參數\n",
        "            # \"ed\": \"20220819\",\n",
        "            \"geo\": \"TW\",\n",
        "            \"ns\": \"15\",\n",
        "          }\n",
        "html = requests.get(url,params=payload)\n",
        "html.encoding='utf-8'"
      ],
      "metadata": {
        "id": "8Di7yJWGCt1O"
      },
      "execution_count": null,
      "outputs": []
    },
    {
      "cell_type": "markdown",
      "source": [
        "# 實戰：即時網路聲量輿情資料下載"
      ],
      "metadata": {
        "id": "wd6j8VbHJzNB"
      }
    },
    {
      "cell_type": "markdown",
      "source": [
        "## 擷取即時熱門關鍵字及資訊"
      ],
      "metadata": {
        "id": "MUF0sjwcJ2Qx"
      }
    },
    {
      "cell_type": "code",
      "execution_count": null,
      "metadata": {
        "id": "2JXS7UOQ629k"
      },
      "outputs": [],
      "source": [
        "import requests,json\n",
        "\n",
        "# 官網 https://trends.google.com/trends/trendingsearches/daily?geo=TW\n",
        "# Google熱搜關鍵字，預設會取得最近兩天的關鍵字\n",
        "url = 'https://trends.google.com/trends/api/dailytrends'\n",
        "\n",
        "# 以 payload 設定 params，ed 可以設定日期\n",
        "payload = {\n",
        "            \"hl\": \"zh-TW\",\n",
        "            \"tz\": \"-480\",\n",
        "            # 如果要指定日期可以加上 ed 參數\n",
        "            # \"ed\": \"20220819\",\n",
        "            \"geo\": \"TW\",\n",
        "            \"ns\": \"15\",\n",
        "          }\n",
        "html = requests.get(url,params=payload)\n",
        "html.encoding='utf-8'\n",
        "\n",
        "_,datas=html.text.split(',',1)\n",
        "jsondata=json.loads(datas) #將下載資料轉換為字典\n",
        "trendingSearchesDays=jsondata['default']['trendingSearchesDays']\n",
        "\n",
        "for trendingSearchesDay in trendingSearchesDays:\n",
        "  formattedDate=trendingSearchesDay['formattedDate']\n",
        "  print('日期:' + formattedDate)\n",
        "  print()\n",
        "  for data in trendingSearchesDay['trendingSearches']:\n",
        "    print('【主題關鍵字:' + data['title']['query'] + '】')\n",
        "    print()\n",
        "    for content in data['articles']:\n",
        "      print('標題:', content['title'])\n",
        "      print('媒體:', content['source'])\n",
        "      print('發佈時間:', content['timeAgo'])\n",
        "      print('內容:', content['snippet'])\n",
        "      print('相關連結:', content['url'])\n",
        "      print()\n",
        "    print('-'*50)"
      ]
    },
    {
      "cell_type": "markdown",
      "source": [
        "## 依日期儲存收集結果"
      ],
      "metadata": {
        "id": "YNoi9RaLJ-eR"
      }
    },
    {
      "cell_type": "code",
      "source": [
        "import requests,json\n",
        "\n",
        "# 官網 https://trends.google.com/trends/trendingsearches/daily?geo=TW\n",
        "# Google熱搜關鍵字，預設會取得最近兩天的關鍵字\n",
        "url = 'https://trends.google.com/trends/api/dailytrends'\n",
        "\n",
        "# 以 payload 設定 params，ed 可以設定日期\n",
        "payload = {\n",
        "            \"hl\": \"zh-TW\",\n",
        "            \"tz\": \"-480\",\n",
        "            # 如果要指定日期可以加上 ed 參數\n",
        "            # \"ed\": \"20220819\",\n",
        "            \"geo\": \"TW\",\n",
        "            \"ns\": \"15\",\n",
        "          }\n",
        "html = requests.get(url,params=payload)\n",
        "html.encoding='utf-8'\n",
        "\n",
        "_,datas=html.text.split(',',1)\n",
        "jsondata=json.loads(datas) #將下載資料轉換為字典\n",
        "trendingSearchesDays=jsondata['default']['trendingSearchesDays']\n",
        "\n",
        "for trendingSearchesDay in trendingSearchesDays:\n",
        "  news=\"\"\n",
        "  formattedDate=trendingSearchesDay['formattedDate']\n",
        "  news += '日期:' + formattedDate + '\\n\\n'\n",
        "\n",
        "  for data in trendingSearchesDay['trendingSearches']:\n",
        "    news += '【主題關鍵字:' + data['title']['query'] + '】' + '\\n\\n'\n",
        "    for content in data['articles']:\n",
        "      news += '標題:' + content['title'] + '\\n'\n",
        "      news += '媒體:' + content['source'] + '\\n'\n",
        "      news += '發佈時間:' + content['timeAgo'] + '\\n'\n",
        "      news += '內容:' + content['snippet'] + '\\n'\n",
        "      news += '相關連結:' + content['url'] + '\\n\\n'\n",
        "\n",
        "  filename= trendingSearchesDay['date'] + '.txt'\n",
        "  with open(filename,'w',encoding='utf-8') as f:\n",
        "    f.write(news)\n",
        "  print(filename + \" 已存檔!\")"
      ],
      "metadata": {
        "id": "Q8CU4AlcKA7R",
        "colab": {
          "base_uri": "https://localhost:8080/"
        },
        "outputId": "3421779b-0009-42b3-ae70-e790320ebb1f"
      },
      "execution_count": null,
      "outputs": [
        {
          "output_type": "stream",
          "name": "stdout",
          "text": [
            "20240213.txt 已存檔!\n",
            "20240212.txt 已存檔!\n"
          ]
        }
      ]
    }
  ]
}