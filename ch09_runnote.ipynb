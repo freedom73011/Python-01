{
  "nbformat": 4,
  "nbformat_minor": 0,
  "metadata": {
    "colab": {
      "provenance": [],
      "include_colab_link": true
    },
    "kernelspec": {
      "name": "python3",
      "display_name": "Python 3"
    },
    "language_info": {
      "name": "python"
    }
  },
  "cells": [
    {
      "cell_type": "markdown",
      "metadata": {
        "id": "view-in-github",
        "colab_type": "text"
      },
      "source": [
        "<a href=\"https://colab.research.google.com/github/freedom73011/Python-01/blob/main/ch09_runnote.ipynb\" target=\"_parent\"><img src=\"https://colab.research.google.com/assets/colab-badge.svg\" alt=\"Open In Colab\"/></a>"
      ]
    },
    {
      "cell_type": "markdown",
      "source": [
        "# 載入相關的模組"
      ],
      "metadata": {
        "id": "5VBTu4MVlp7Q"
      }
    },
    {
      "cell_type": "code",
      "source": [
        "import requests,os\n",
        "from bs4 import BeautifulSoup\n",
        "from urllib.request import urlopen"
      ],
      "metadata": {
        "id": "en2f5M86lzIR"
      },
      "execution_count": null,
      "outputs": []
    },
    {
      "cell_type": "markdown",
      "source": [
        "# 設定相簿網址"
      ],
      "metadata": {
        "id": "jTxc8ZJql2B0"
      }
    },
    {
      "cell_type": "code",
      "source": [
        "# 2024 台灣台南國際馬拉松 - 半馬12K 全馬33K處\n",
        "url = 'http://tw.running.biji.co/index.php?q=album&act=photo_list&album_id=52001&cid=11004&start=1704592800&end=1704593400&type=place&subtitle=2024%20%E5%8F%B0%E7%81%A3%E5%8F%B0%E5%8D%97%E5%9C%8B%E9%9A%9B%E9%A6%AC%E6%8B%89%E6%9D%BE-%E5%8D%8A%E9%A6%AC12K%20%E5%85%A8%E9%A6%AC33K%E8%99%95'"
      ],
      "metadata": {
        "id": "VQRzWwlNl_At"
      },
      "execution_count": null,
      "outputs": []
    },
    {
      "cell_type": "markdown",
      "source": [
        "# 取得相簿名稱"
      ],
      "metadata": {
        "id": "SnGddBEJmY2c"
      }
    },
    {
      "cell_type": "code",
      "source": [
        "html = requests.get(url)\n",
        "soup=BeautifulSoup(html.text,'html.parser')\n",
        "title = soup.find('h1',{'class':'album-title flex-1'}).text.strip()\n",
        "title"
      ],
      "metadata": {
        "colab": {
          "base_uri": "https://localhost:8080/",
          "height": 35
        },
        "id": "BymU8Svsmb4X",
        "outputId": "39b5d039-2b2e-4576-f519-2847c8971045"
      },
      "execution_count": null,
      "outputs": [
        {
          "output_type": "execute_result",
          "data": {
            "text/plain": [
              "'2024 台灣台南國際馬拉松 - 半馬12K 全馬33K處'"
            ],
            "application/vnd.google.colaboratory.intrinsic+json": {
              "type": "string"
            }
          },
          "metadata": {},
          "execution_count": 9
        }
      ]
    },
    {
      "cell_type": "markdown",
      "source": [
        "#以data參數提出post請求"
      ],
      "metadata": {
        "id": "MlmIO0dwple8"
      }
    },
    {
      "cell_type": "code",
      "source": [
        "url = 'https://running.biji.co/index.php?pop=ajax&func=album&fename=load_more_photos_in_listing_computer'\n",
        "\n",
        "payload = {'type': 'place', 'rows': '0','need_rows': '20',\n",
        "           'cid': '11004','album_id': '52001'}\n",
        "html = requests.post(url, data=payload)\n",
        "# 在回應頁面中找出所有照片連結\n",
        "soup = BeautifulSoup(html.text, 'html.parser')"
      ],
      "metadata": {
        "id": "p3_vj9cuqEY2"
      },
      "execution_count": null,
      "outputs": []
    },
    {
      "cell_type": "markdown",
      "source": [
        "#以標題建立目錄儲存圖片"
      ],
      "metadata": {
        "id": "A-F9dvcLqKCD"
      }
    },
    {
      "cell_type": "code",
      "source": [
        "images_dir=title + \"/\"\n",
        "if not os.path.exists(images_dir):\n",
        "    os.mkdir(images_dir)"
      ],
      "metadata": {
        "id": "CU8A_rJ7qX7X"
      },
      "execution_count": null,
      "outputs": []
    },
    {
      "cell_type": "markdown",
      "source": [
        "# 下載圖片"
      ],
      "metadata": {
        "id": "FLLr7IJyqeLw"
      }
    },
    {
      "cell_type": "code",
      "source": [
        "# 處理所有 <img> 標籤\n",
        "photos = soup.select('.photo_img')\n",
        "n=0 # 記錄下載圖片數量\n",
        "for photo in photos:\n",
        "    # 讀取 src 屬性內容\n",
        "    src=photo['src']\n",
        "    # 讀取 .jpg 檔\n",
        "    if src != None and ('.jpg' in src):\n",
        "        # 設定圖檔完整路徑\n",
        "        full_path = src\n",
        "        filename = full_path.split('/')[-1]  # 取得圖檔名\n",
        "        print(full_path)\n",
        "        # 儲存圖片\n",
        "        try:\n",
        "            image = urlopen(full_path)\n",
        "            with open(os.path.join(images_dir,filename),'wb') as f:\n",
        "                f.write(image.read())\n",
        "            n+=1\n",
        "        except:\n",
        "            print(\"{} 無法讀取!\".format(filename))\n",
        "\n",
        "print(\"共下載\",n,\"張圖片\")"
      ],
      "metadata": {
        "colab": {
          "base_uri": "https://localhost:8080/"
        },
        "id": "hxNI2u1sqiY9",
        "outputId": "c40ce809-d37e-43a8-c584-e041feb1fc84"
      },
      "execution_count": null,
      "outputs": [
        {
          "output_type": "stream",
          "name": "stdout",
          "text": [
            "https://cdntwrunning.biji.co/600_D9FA2CD9-D528-0B9B-D19B-F7A38681290C.jpg\n",
            "https://cdntwrunning.biji.co/600_42CA7887-C72A-27F3-876A-D7F7F0BF3E2A.jpg\n",
            "https://cdntwrunning.biji.co/600_CD53A0EF-64A9-631F-F30F-FB0BCD60355A.jpg\n",
            "https://cdntwrunning.biji.co/600_22309A3A-F3D5-2A74-36A9-9433FD3D7911.jpg\n",
            "https://cdntwrunning.biji.co/600_24ECC507-C96C-DFF4-7297-CC5F4701B305.jpg\n",
            "https://cdntwrunning.biji.co/600_55AAB705-3C62-F132-4C93-D76A86F673F2.jpg\n",
            "https://cdntwrunning.biji.co/600_4EDC713D-8E14-AB96-8181-80E4C889DE71.jpg\n",
            "https://cdntwrunning.biji.co/600_4D80AE30-FEB5-9BBE-A633-EB154AAAB1A9.jpg\n",
            "https://cdntwrunning.biji.co/600_BC2F1122-EA91-BD12-4F23-08544D3771B6.jpg\n",
            "https://cdntwrunning.biji.co/600_EC1A4B30-3DA6-E2DA-354D-3306BF7E29AB.jpg\n",
            "https://cdntwrunning.biji.co/600_7FB4CBAF-DD05-F87D-7640-E1C6814DE784.jpg\n",
            "https://cdntwrunning.biji.co/600_8C4B60D2-CB26-70FF-F6BD-29807FD61415.jpg\n",
            "https://cdntwrunning.biji.co/600_26025AF1-390F-F4BA-AC7F-BCB558881FB2.jpg\n",
            "https://cdntwrunning.biji.co/600_10A23302-0913-EB09-3D95-FC8AAFAEB066.jpg\n",
            "https://cdntwrunning.biji.co/600_5623C06A-3F8F-A92F-16FD-BE8A84A5C034.jpg\n",
            "https://cdntwrunning.biji.co/600_7FEAA6DC-D8F5-237D-BDBD-F50774D84B5E.jpg\n",
            "https://cdntwrunning.biji.co/600_DDE5CAAE-51D0-8C0B-36B8-6A582E56A6CD.jpg\n",
            "https://cdntwrunning.biji.co/600_2E5DCF25-E6F5-1045-949C-5051E05DB5B9.jpg\n",
            "https://cdntwrunning.biji.co/600_50089DB9-4276-FEFA-C102-F5449F268A1A.jpg\n",
            "https://cdntwrunning.biji.co/600_0391588A-41E3-0966-6BD1-71854A6E4616.jpg\n",
            "共下載 20 張圖片\n"
          ]
        }
      ]
    },
    {
      "cell_type": "markdown",
      "source": [
        "# 基本下載完整程式碼"
      ],
      "metadata": {
        "id": "oqBv41umHMoW"
      }
    },
    {
      "cell_type": "code",
      "execution_count": null,
      "metadata": {
        "colab": {
          "base_uri": "https://localhost:8080/"
        },
        "id": "nwt0J_EoBEKI",
        "outputId": "51fe6fef-2ffb-4ea2-9915-6f271236e1ac"
      },
      "outputs": [
        {
          "output_type": "stream",
          "name": "stdout",
          "text": [
            "https://cdntwrunning.biji.co/600_7EBF7E1B-8974-55B2-F4E7-377B6F398F96.jpg\n",
            "https://cdntwrunning.biji.co/600_E092B6FB-D314-52C1-FEDD-192472667560.jpg\n",
            "https://cdntwrunning.biji.co/600_1D629223-5355-826B-5918-2ACD65CB5429.jpg\n",
            "https://cdntwrunning.biji.co/600_8AD052F8-19FD-7B3D-076C-A3B73A40D479.jpg\n",
            "https://cdntwrunning.biji.co/600_095610D0-6F88-FFC9-65D4-0F44CF077995.jpg\n",
            "https://cdntwrunning.biji.co/600_D6E1996B-ECEF-AAB1-0290-644536A7A185.jpg\n",
            "https://cdntwrunning.biji.co/600_2DC0B3D3-D7BB-329E-A1F5-321B5678D08A.jpg\n",
            "https://cdntwrunning.biji.co/600_7D75E4F3-5615-2572-1905-F4F67EF527A9.jpg\n",
            "https://cdntwrunning.biji.co/600_F2C2027D-4582-EB12-23EB-9832C061E24C.jpg\n",
            "https://cdntwrunning.biji.co/600_E0F00195-2162-BC58-27E4-C927085E5753.jpg\n",
            "https://cdntwrunning.biji.co/600_ABAE82EB-42C1-DE71-E3F9-437507D45A01.jpg\n",
            "https://cdntwrunning.biji.co/600_CBEE7370-41E4-58AA-EF78-63CDD450F3C9.jpg\n",
            "https://cdntwrunning.biji.co/600_172F57E6-0126-27AC-05DD-DAD9558D6B53.jpg\n",
            "https://cdntwrunning.biji.co/600_07EC3A5C-6A35-000E-4E38-A7DB24C34D78.jpg\n",
            "https://cdntwrunning.biji.co/600_34D4359F-A666-F096-974D-6BFEB5184F16.jpg\n",
            "https://cdntwrunning.biji.co/600_D9225538-920B-61E9-9996-84DE718B8DAE.jpg\n",
            "https://cdntwrunning.biji.co/600_10FFE437-E558-0901-E5E8-A3F1188252C1.jpg\n",
            "https://cdntwrunning.biji.co/600_0CE84E4D-2012-9D8D-CC78-6BD746631F99.jpg\n",
            "https://cdntwrunning.biji.co/600_285DBAE7-A134-015C-4873-B29DA3437796.jpg\n",
            "https://cdntwrunning.biji.co/600_1E19D3AB-3DD6-862B-DD40-274A3B08E028.jpg\n",
            "共下載 20 張圖片\n"
          ]
        }
      ],
      "source": [
        "import requests,os\n",
        "from bs4 import BeautifulSoup\n",
        "from urllib.request import urlopen\n",
        "\n",
        "# 2024 台灣台南國際馬拉松 - 半馬12K 全馬33K處\n",
        "url = 'http://tw.running.biji.co/index.php?q=album&act=photo_list&album_id=52001&cid=11004&start=1704592800&end=1704593400&type=place&subtitle=2024%20%E5%8F%B0%E7%81%A3%E5%8F%B0%E5%8D%97%E5%9C%8B%E9%9A%9B%E9%A6%AC%E6%8B%89%E6%9D%BE-%E5%8D%8A%E9%A6%AC12K%20%E5%85%A8%E9%A6%AC33K%E8%99%95'\n",
        "\n",
        "html = requests.get(url)\n",
        "soup=BeautifulSoup(html.text,'html.parser')\n",
        "title = soup.find('h1',{'class':'album-title flex-1'}).text.strip()\n",
        "\n",
        "url = 'https://running.biji.co/index.php?pop=ajax&func=album&fename=load_more_photos_in_listing_computer'\n",
        "\n",
        "payload = {'type': 'place', 'rows': '0','need_rows': '20',\n",
        "           'cid': '11004','album_id': '52001'}\n",
        "html = requests.post(url, data=payload)\n",
        "# 在回應頁面中找出所有照片連結\n",
        "soup = BeautifulSoup(html.text, 'html.parser')\n",
        "\n",
        "# 以標題建立目錄儲存圖片\n",
        "images_dir=title + \"/\"\n",
        "if not os.path.exists(images_dir):\n",
        "    os.mkdir(images_dir)\n",
        "\n",
        "# 處理所有 <img> 標籤\n",
        "photos = soup.select('.photo_img')\n",
        "n=0 # 記錄下載圖片數量\n",
        "for photo in photos:\n",
        "    # 讀取 src 屬性內容\n",
        "    src=photo['src']\n",
        "    # 讀取 .jpg 檔\n",
        "    if src != None and ('.jpg' in src):\n",
        "        # 設定圖檔完整路徑\n",
        "        full_path = src\n",
        "        filename = full_path.split('/')[-1]  # 取得圖檔名\n",
        "        print(full_path)\n",
        "        # 儲存圖片\n",
        "        try:\n",
        "            image = urlopen(full_path)\n",
        "            with open(os.path.join(images_dir,filename),'wb') as f:\n",
        "                f.write(image.read())\n",
        "            n+=1\n",
        "        except:\n",
        "            print(\"{} 無法讀取!\".format(filename))\n",
        "\n",
        "print(\"共下載\",n,\"張圖片\")"
      ]
    },
    {
      "cell_type": "code",
      "source": [
        "!rm -f -r '2024 台灣台南國際馬拉松 - 半馬12K 全馬33K處'/*"
      ],
      "metadata": {
        "id": "9ayzg68BuAyL"
      },
      "execution_count": null,
      "outputs": []
    },
    {
      "cell_type": "markdown",
      "source": [
        "# 批次下載程式碼"
      ],
      "metadata": {
        "id": "L5SJXyOW2D9V"
      }
    },
    {
      "cell_type": "code",
      "source": [
        "import requests,os\n",
        "from bs4 import BeautifulSoup\n",
        "from urllib.request import urlopen\n",
        "\n",
        "# 2024 台灣台南國際馬拉松 - 半馬12K 全馬33K處\n",
        "url = 'http://tw.running.biji.co/index.php?q=album&act=photo_list&album_id=52001&cid=11004&start=1704592800&end=1704593400&type=place&subtitle=2024%20%E5%8F%B0%E7%81%A3%E5%8F%B0%E5%8D%97%E5%9C%8B%E9%9A%9B%E9%A6%AC%E6%8B%89%E6%9D%BE-%E5%8D%8A%E9%A6%AC12K%20%E5%85%A8%E9%A6%AC33K%E8%99%95'\n",
        "html = requests.get(url)\n",
        "\n",
        "soup=BeautifulSoup(html.text,'html.parser')\n",
        "title = soup.find('h1',{'class':'album-title flex-1'}).text.strip() + \"_全部相片\"\n",
        "\n",
        "url = 'https://running.biji.co/index.php?pop=ajax&func=album&fename=load_more_photos_in_listing_computer'\n",
        "\n",
        "# 在回應頁面中找出所有照片連結\n",
        "soup = BeautifulSoup(html.text, 'html.parser')\n",
        "\n",
        "# 以標題建立目錄儲存圖片\n",
        "images_dir=title + \"/\"\n",
        "if not os.path.exists(images_dir):\n",
        "    os.mkdir(images_dir)\n",
        "\n",
        "n=0 # 記錄下載圖片數量\n",
        "for i in range(200):\n",
        "    payload = {'type': 'place', 'rows': str(i*20), 'need_rows': '20',\n",
        "               'cid': '11004','album_id': '52001'}\n",
        "    html = requests.post(url, data=payload)\n",
        "    soup = BeautifulSoup(html.text, 'html.parser')\n",
        "    # 處理所有 <img> 標籤\n",
        "    photos = soup.select('.photo_img')\n",
        "    for photo in photos:\n",
        "        # 讀取 src 屬性內容\n",
        "        src=photo['src']\n",
        "        # 讀取 .jpg 檔\n",
        "        if src != None and ('.jpg' in src):\n",
        "            # 設定圖檔完整路徑\n",
        "            full_path = src\n",
        "            filename = full_path.split('/')[-1]  # 取得圖檔名\n",
        "            # 儲存圖片\n",
        "            try:\n",
        "                image = urlopen(full_path)\n",
        "                with open(os.path.join(images_dir,filename),'wb') as f:\n",
        "                    f.write(image.read())\n",
        "                n+=1\n",
        "                if n % 50 ==0:\n",
        "                  print(\"n=\",n)\n",
        "                if n>=1000: # 最多下載 1000 張\n",
        "                    break   # 離開內部 for 迴圈\n",
        "            except:\n",
        "                print(\"{} 無法讀取!\".format(filename))\n",
        "    if n>=1000: # 最多下載 1000 張\n",
        "        break   # 離開外部 for 迴圈\n",
        "\n",
        "print(\"共下載\",n,\"張圖片\")"
      ],
      "metadata": {
        "colab": {
          "base_uri": "https://localhost:8080/"
        },
        "id": "GqEczKMG2NGj",
        "outputId": "885678fa-0699-42a1-a839-327604c58a13"
      },
      "execution_count": null,
      "outputs": [
        {
          "output_type": "stream",
          "name": "stdout",
          "text": [
            "n= 50\n",
            "n= 100\n",
            "n= 150\n",
            "n= 200\n",
            "n= 250\n",
            "n= 300\n",
            "n= 350\n",
            "n= 400\n",
            "n= 450\n",
            "n= 500\n",
            "n= 550\n",
            "n= 600\n",
            "n= 650\n",
            "n= 700\n",
            "n= 750\n",
            "n= 800\n",
            "n= 850\n",
            "n= 900\n",
            "n= 950\n",
            "n= 1000\n",
            "共下載 1000 張圖片\n"
          ]
        }
      ]
    },
    {
      "cell_type": "markdown",
      "source": [
        "# 非同步模組-concurrent.futures"
      ],
      "metadata": {
        "id": "mtFFdFiV2W1c"
      }
    },
    {
      "cell_type": "code",
      "source": [
        "from concurrent.futures import ThreadPoolExecutor\n",
        "\n",
        "def show(fruit):\n",
        "    print(fruit)\n",
        "\n",
        "fruits = ('西瓜', '百香果', '香蕉', '橘子', '蘋果')\n",
        "with ThreadPoolExecutor(max_workers=5) as executor:\n",
        "    results = executor.map(show, fruits)"
      ],
      "metadata": {
        "colab": {
          "base_uri": "https://localhost:8080/"
        },
        "id": "cQa9Rqy-2kCv",
        "outputId": "1ce355f8-9896-4069-d2b8-5b555f642184"
      },
      "execution_count": null,
      "outputs": [
        {
          "output_type": "stream",
          "name": "stdout",
          "text": [
            "西瓜\n",
            "百香果\n",
            "香蕉\n",
            "橘子\n",
            "蘋果\n"
          ]
        }
      ]
    },
    {
      "cell_type": "markdown",
      "source": [
        "# 運動相簿照片非同步下載"
      ],
      "metadata": {
        "id": "QBqwH6d922qi"
      }
    },
    {
      "cell_type": "code",
      "source": [
        "import requests,os\n",
        "from bs4 import BeautifulSoup\n",
        "from urllib.request import urlopen\n",
        "import concurrent.futures\n",
        "import time\n",
        "\n",
        "def scraper(row):\n",
        "    global n\n",
        "    payload = {'type': 'place', 'rows': str(row*20), 'need_rows': '20',\n",
        "               'cid': '11004','album_id': '52001'}\n",
        "    html = requests.post(url, data=payload)\n",
        "    # 在回應頁面中找出所有照片連結\n",
        "    soup = BeautifulSoup(html.text, 'html.parser')\n",
        "\n",
        "    # 處理所有 <img> 標籤\n",
        "    photos = soup.select('.photo_img')\n",
        "    for photo in photos:\n",
        "        # 讀取 src 屬性內容\n",
        "        src=photo['src']\n",
        "        # 讀取 .jpg 檔\n",
        "        if src != None and ('.jpg' in src):\n",
        "            # 設定圖檔完整路徑\n",
        "            full_path = src\n",
        "            filename = full_path.split('/')[-1]  # 取得圖檔名\n",
        "            # print(full_path)\n",
        "            # 儲存圖片\n",
        "            try:\n",
        "                image = urlopen(full_path)\n",
        "                with open(os.path.join(images_dir,filename),'wb') as f:\n",
        "                    f.write(image.read())\n",
        "                n+=1\n",
        "                if n % 50 ==0:\n",
        "                  print(\"n=\",n)\n",
        "            except:\n",
        "                print(\"{} 無法讀取!\".format(filename))\n",
        "\n",
        "start_time = time.time()  # 開始時間\n",
        "url = 'http://tw.running.biji.co/index.php?q=album&act=photo_list&album_id=52001&cid=11004&start=1704592800&end=1704593400&type=place&subtitle=2024%20%E5%8F%B0%E7%81%A3%E5%8F%B0%E5%8D%97%E5%9C%8B%E9%9A%9B%E9%A6%AC%E6%8B%89%E6%9D%BE-%E5%8D%8A%E9%A6%AC12K%20%E5%85%A8%E9%A6%AC33K%E8%99%95'\n",
        "html = requests.get(url)\n",
        "\n",
        "soup=BeautifulSoup(html.text,'html.parser')\n",
        "title = soup.find('h1',{'class':'album-title flex-1'}).text.strip() + \"_全部相片(多執行緒)\"\n",
        "# 以標題建立目錄儲存圖片\n",
        "images_dir=title + \"/\"\n",
        "if not os.path.exists(images_dir):\n",
        "    os.mkdir(images_dir)\n",
        "\n",
        "n=0 # 記錄下載圖片數量\n",
        "# 第3屆埔里跑 Puli Power 山城派對馬拉松  向善橋(約34K)\n",
        "url = 'https://running.biji.co/index.php?pop=ajax&func=album&fename=load_more_photos_in_listing_computer'\n",
        "\n",
        "# 同時建立及啟用100個執行緒\n",
        "rows=list(range(0, 50))\n",
        "with concurrent.futures.ThreadPoolExecutor(max_workers=100) as executor:\n",
        "    executor.map(scraper,rows)\n",
        "\n",
        "print(\"共下載\",n,\"張圖片\")\n",
        "\n",
        "end_time = time.time() # 結束時間\n",
        "print(f\"使用時間：{end_time - start_time} 秒\")"
      ],
      "metadata": {
        "colab": {
          "base_uri": "https://localhost:8080/"
        },
        "id": "3e2u1O7H3Aw8",
        "outputId": "1c36294c-f048-42d6-9a35-5f95cb708fb3"
      },
      "execution_count": null,
      "outputs": [
        {
          "output_type": "stream",
          "name": "stdout",
          "text": [
            "n= 50\n",
            "n= 100\n",
            "n= 150\n",
            "n= 200\n",
            "n= 250\n",
            "n= 300\n",
            "n= 350\n",
            "n= 400\n",
            "n= 450\n",
            "n= 500\n",
            "n= 550\n",
            "n= 600\n",
            "n= 650\n",
            "n= 700\n",
            "n= 750\n",
            "n= 800\n",
            "n= 850\n",
            "n= 900\n",
            "n= 950\n",
            "n= 1000\n",
            "共下載 1000 張圖片\n",
            "使用時間：28.54239249229431 秒\n"
          ]
        }
      ]
    },
    {
      "cell_type": "markdown",
      "source": [
        "# 將圖檔壓縮"
      ],
      "metadata": {
        "id": "tbV9JIE03Nqi"
      }
    },
    {
      "cell_type": "code",
      "source": [
        "!zip images '2024 台灣台南國際馬拉松 - 半馬12K 全馬33K處_全部相片'/*"
      ],
      "metadata": {
        "id": "b_oC1W3p3RM0"
      },
      "execution_count": null,
      "outputs": []
    }
  ]
}