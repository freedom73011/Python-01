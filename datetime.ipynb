{
  "nbformat": 4,
  "nbformat_minor": 0,
  "metadata": {
    "colab": {
      "provenance": [],
      "authorship_tag": "ABX9TyP8wz8AC4cSzOSZS24XUzhu",
      "include_colab_link": true
    },
    "kernelspec": {
      "name": "python3",
      "display_name": "Python 3"
    },
    "language_info": {
      "name": "python"
    }
  },
  "cells": [
    {
      "cell_type": "markdown",
      "metadata": {
        "id": "view-in-github",
        "colab_type": "text"
      },
      "source": [
        "<a href=\"https://colab.research.google.com/github/freedom73011/Python-01/blob/main/datetime.ipynb\" target=\"_parent\"><img src=\"https://colab.research.google.com/assets/colab-badge.svg\" alt=\"Open In Colab\"/></a>"
      ]
    },
    {
      "cell_type": "code",
      "execution_count": null,
      "metadata": {
        "id": "Im46J4aNDCY7"
      },
      "outputs": [],
      "source": [
        "from datetime import datetime\n",
        "\n",
        "def days_difference(date1, date2):\n",
        "    # 將日期字串轉換為 datetime 物件\n",
        "    date1_obj = datetime.strptime(date1, \"%Y-%m-%d\")\n",
        "    date2_obj = datetime.strptime(date2, \"%Y-%m-%d\")\n",
        "\n",
        "    # 計算日期差距\n",
        "    difference = abs((date2_obj - date1_obj).days)\n",
        "\n",
        "    return difference\n",
        "\n",
        "# 輸入兩個日期\n",
        "date1 = input(\"請輸入第一個日期（YYYY-MM-DD）：\")\n",
        "date2 = input(\"請輸入第二個日期（YYYY-MM-DD）：\")\n",
        "\n",
        "# 計算日期差距並輸出結果\n",
        "difference = days_difference(date1, date2)\n",
        "print(\"兩個日期相差 {} 天\".format(difference))"
      ]
    }
  ]
}